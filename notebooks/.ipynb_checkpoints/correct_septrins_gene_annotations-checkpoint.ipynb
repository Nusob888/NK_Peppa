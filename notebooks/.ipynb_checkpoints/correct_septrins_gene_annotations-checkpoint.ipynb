{
 "cells": [
  {
   "cell_type": "code",
   "execution_count": 1,
   "id": "2c7b10a1",
   "metadata": {},
   "outputs": [],
   "source": [
    "import os\n",
    "import sys\n",
    "import pandas as pd\n",
    "import numpy as np\n",
    "import matplotlib.pyplot as plt\n",
    "import matplotlib.font_manager\n",
    "import seaborn as sns\n",
    "import anndata\n",
    "import scanpy as sc\n",
    "import re\n",
    "import decoupler as dc\n",
    "import sc_toolbox\n",
    "import random\n",
    "import seaborn.objects as so"
   ]
  },
  {
   "cell_type": "code",
   "execution_count": 2,
   "id": "e8f6b2b7",
   "metadata": {},
   "outputs": [],
   "source": [
    "data_dir = \"/well/immune-rep/users/vbw431/Projects/Peppa/data/\"\n",
    "newdata_dir = \"/well/immune-rep/users/vbw431/Projects/Peppa/new_analysis/data/\"\n",
    "plot_dir = \"/well/immune-rep/users/vbw431/Projects/Peppa/new_out/final_plots/\"\n",
    "\n",
    "sys.path = sys.path + [\"/well/immune-rep/users/vbw431/python_utils/\"]"
   ]
  },
  {
   "cell_type": "code",
   "execution_count": 3,
   "id": "a7de26e5",
   "metadata": {},
   "outputs": [
    {
     "name": "stderr",
     "output_type": "stream",
     "text": [
      "/well/immune-rep/users/vbw431/conda/ivybridge/envs/scverse_new/lib/python3.8/site-packages/rpy2/robjects/lib/ggplot2.py:70: UserWarning: This was designed againt ggplot2 versions starting with 3.3. but you have 3.4.2\n",
      "  warnings.warn(\n"
     ]
    }
   ],
   "source": [
    "import rpy2.rinterface_lib.callbacks\n",
    "import anndata2ri\n",
    "import logging\n",
    "import rpy2.robjects.lib.ggplot2 as gp\n",
    "from rpy2.robjects import pandas2ri\n",
    "from rpy2.robjects import r\n",
    "from rpy2.ipython.ggplot import image_png\n",
    "\n",
    "#sc.settings.verbosity = 0\n",
    "rpy2.rinterface_lib.callbacks.logger.setLevel(logging.ERROR)\n",
    "\n",
    "pandas2ri.activate()\n",
    "anndata2ri.activate()\n",
    "%load_ext rpy2.ipython"
   ]
  },
  {
   "cell_type": "code",
   "execution_count": 4,
   "id": "85501a7f",
   "metadata": {},
   "outputs": [
    {
     "name": "stdout",
     "output_type": "stream",
     "text": [
      "-- Attaching core tidyverse packages ------------------------ tidyverse 2.0.0 --\n",
      "v dplyr     1.1.2     v readr     2.1.4\n",
      "v forcats   1.0.0     v stringr   1.5.0\n",
      "v lubridate 1.9.2     v tibble    3.2.1\n",
      "v purrr     1.0.1     v tidyr     1.3.0\n",
      "-- Conflicts ------------------------------------------ tidyverse_conflicts() --\n",
      "x purrr::%@%()                 masks rlang::%@%()\n",
      "x lazyeval::as_name()          masks rlang::as_name()\n",
      "x lazyeval::call_modify()      masks rlang::call_modify()\n",
      "x lazyeval::call_standardise() masks rlang::call_standardise()\n",
      "x lazyeval::expr_label()       masks rlang::expr_label()\n",
      "x lazyeval::expr_text()        masks rlang::expr_text()\n",
      "x lazyeval::f_env()            masks rlang::f_env()\n",
      "x lazyeval::f_env<-()          masks rlang::f_env<-()\n",
      "x lazyeval::f_label()          masks rlang::f_label()\n",
      "x lazyeval::f_lhs()            masks rlang::f_lhs()\n",
      "x lazyeval::f_lhs<-()          masks rlang::f_lhs<-()\n",
      "x lazyeval::f_rhs()            masks rlang::f_rhs()\n",
      "x lazyeval::f_rhs<-()          masks rlang::f_rhs<-()\n",
      "x lazyeval::f_text()           masks rlang::f_text()\n",
      "x dplyr::filter()              masks stats::filter()\n",
      "x purrr::flatten()             masks rlang::flatten()\n",
      "x purrr::flatten_chr()         masks rlang::flatten_chr()\n",
      "x purrr::flatten_dbl()         masks rlang::flatten_dbl()\n",
      "x purrr::flatten_int()         masks rlang::flatten_int()\n",
      "x purrr::flatten_lgl()         masks rlang::flatten_lgl()\n",
      "x purrr::flatten_raw()         masks rlang::flatten_raw()\n",
      "x purrr::invoke()              masks rlang::invoke()\n",
      "x purrr::is_atomic()           masks lazyeval::is_atomic(), rlang::is_atomic()\n",
      "x lazyeval::is_call()          masks rlang::is_call()\n",
      "x purrr::is_formula()          masks lazyeval::is_formula(), rlang::is_formula()\n",
      "x lazyeval::is_lang()          masks rlang::is_lang()\n",
      "x dplyr::lag()                 masks stats::lag()\n",
      "x lazyeval::missing_arg()      masks rlang::missing_arg()\n",
      "x purrr::splice()              masks rlang::splice()\n",
      "i Use the conflicted package (<http://conflicted.r-lib.org/>) to force all conflicts to become errors\n",
      "\n",
      "    WARNING: The R package \"reticulate\" only fixed recently\n",
      "    an issue that caused a segfault when used with rpy2:\n",
      "    https://github.com/rstudio/reticulate/pull/1188\n",
      "    Make sure that you use a version of that package that includes\n",
      "    the fix.\n",
      "    "
     ]
    }
   ],
   "source": [
    "%%R\n",
    ".libPaths(c(paste0(\"/well/immune-rep/users/vbw431/conda/ivybridge/envs/scverse_new/r_modules\"), .libPaths()))\n",
    "\n",
    "library(tidyverse)\n",
    "library(Seurat)\n",
    "\n",
    "\n",
    "cur.dir = \"/well/immune-rep/users/vbw431/Projects/Peppa/data/DIMITRA_FASTQ/\"\n",
    "work.dir = \"/well/immune-rep/users/vbw431/Projects/Peppa/\"\n",
    "out.dir = \"/well/immune-rep/users/vbw431/Projects/Peppa/new_analysis/out/\"\n",
    "references = \"/well/immune-rep/users/vbw431/reference/reference/refdata-gex-GRCh38-2020-A/\"\n",
    "com.out = \"/well/immune-rep/users/vbw431/Projects/Peppa/reference_combat/\"\n",
    "\n",
    "##plotting\n",
    "library(ggplot2); theme_set(theme_bw(base_size = 18)+\n",
    "                              theme(strip.text = element_text(colour = 'black', face=\"bold\",size=12), \n",
    "                                    panel.grid.major = element_blank(), \n",
    "                                    panel.grid.minor = element_blank(),\n",
    "                                    panel.border = element_rect(size = 0.7),\n",
    "                                    axis.ticks.length=unit(.10, \"cm\"),\n",
    "                                    axis.ticks = element_line(size=0.7),\n",
    "                                    strip.background = element_blank()))\n",
    "\n"
   ]
  },
  {
   "cell_type": "markdown",
   "id": "4fe94878",
   "metadata": {},
   "source": [
    "## Load Seurat data and Prepare for DGE"
   ]
  },
  {
   "cell_type": "code",
   "execution_count": 5,
   "id": "f2fddd65",
   "metadata": {},
   "outputs": [],
   "source": [
    "%%R \n",
    "\n",
    "##load, normalise  and trim to remove pre_treatment replicates and post vaccine samples from azimuth\n",
    "\n",
    "peppa <- readRDS(paste0(out.dir, \"/peppa_pbmc_all.rds\"))\n",
    "\n",
    "\n"
   ]
  },
  {
   "cell_type": "code",
   "execution_count": 6,
   "id": "31b9d90e",
   "metadata": {},
   "outputs": [],
   "source": [
    "%%R\n",
    "peppa_list <- SplitObject(peppa,split.by=\"Ref_lab\")\n"
   ]
  },
  {
   "cell_type": "code",
   "execution_count": 7,
   "id": "1ca83d22",
   "metadata": {},
   "outputs": [
    {
     "name": "stdout",
     "output_type": "stream",
     "text": [
      " [1] \"SEPT1\"     \"SEPT10\"    \"SEPT11\"    \"SEPT12\"    \"SEPT14\"    \"SEPT2\"    \n",
      " [7] \"SEPT3\"     \"SEPT4\"     \"SEPT4-AS1\" \"SEPT6\"     \"SEPT7\"     \"SEPT7-AS1\"\n",
      "[13] \"SEPT8\"     \"SEPT9\"    \n"
     ]
    }
   ],
   "source": [
    "%%R\n",
    "septrins_fullnames <- rownames(peppa_list[[\"Azimuth\"]])[grepl(\"^SEPTIN\",rownames(peppa_list[[\"Azimuth\"]]))]\n",
    "\n",
    "septrins_shortnames <- rownames(peppa_list[[\"Azimuth\"]])[grepl(\"^SEPT\",rownames(peppa_list[[\"Azimuth\"]]))]\n",
    "septrins_shortnames <- septrins_shortnames[!septrins_shortnames %in% septrins_fullnames]\n",
    "septrins_shortnames\n",
    "\n"
   ]
  },
  {
   "cell_type": "code",
   "execution_count": 8,
   "id": "4302f98e",
   "metadata": {},
   "outputs": [
    {
     "name": "stdout",
     "output_type": "stream",
     "text": [
      " [1] \"SEPT1\"     \"SEPT10\"    \"SEPT11\"    \"SEPT12\"    \"SEPT14\"    \"SEPT2\"    \n",
      " [7] \"SEPT3\"     \"SEPT4\"     \"SEPT4-AS1\" \"SEPT6\"     \"SEPT7\"     \"SEPT7-AS1\"\n",
      "[13] \"SEPT8\"     \"SEPT9\"    \n"
     ]
    }
   ],
   "source": [
    "%%R\n",
    "septrins_shortnames"
   ]
  },
  {
   "cell_type": "code",
   "execution_count": 9,
   "id": "31722c01",
   "metadata": {},
   "outputs": [],
   "source": [
    "%%R \n",
    "\n",
    "azimuth <- subset(peppa_list[[\"Azimuth\"]],features=setdiff(rownames(peppa_list[[\"Azimuth\"]]),septrins_fullnames))\n",
    "\n",
    "azimuth_mat <- GetAssayData(object = azimuth, slot = \"counts\")\n",
    "rownames(azimuth_mat) <- gsub(\"^SEPT\",\"SEPTIN\", rownames(azimuth_mat))\n",
    "newdata_azi <- CreateAssayObject(counts = azimuth_mat)\n",
    "\n",
    "azimuth_new<- CreateSeuratObject(counts = newdata_azi)\n",
    "\n",
    "azimuth_new@meta.data <- azimuth@meta.data\n"
   ]
  },
  {
   "cell_type": "code",
   "execution_count": 11,
   "id": "62cb0b49",
   "metadata": {},
   "outputs": [],
   "source": [
    "%%R\n",
    "peppa <- subset(peppa_list[[\"Peppa\"]],features=setdiff(rownames(peppa_list[[\"Peppa\"]]),septrins_shortnames))\n"
   ]
  },
  {
   "cell_type": "code",
   "execution_count": 20,
   "id": "74abb055",
   "metadata": {},
   "outputs": [],
   "source": [
    "%%R\n",
    "pbmc.combined <- merge(peppa, y = azimuth_new)\n"
   ]
  },
  {
   "cell_type": "code",
   "execution_count": 22,
   "id": "2985e7ca",
   "metadata": {},
   "outputs": [
    {
     "name": "stdout",
     "output_type": "stream",
     "text": [
      "[1]  23789 252811\n"
     ]
    }
   ],
   "source": [
    "%%R\n",
    "peppa <- readRDS(paste0(out.dir, \"/peppa_pbmc_all.rds\"))\n"
   ]
  },
  {
   "cell_type": "code",
   "execution_count": 24,
   "id": "ac1be58f",
   "metadata": {},
   "outputs": [
    {
     "name": "stdout",
     "output_type": "stream",
     "text": [
      "[1]  23789 252811\n",
      "[1]  23776 252811\n"
     ]
    }
   ],
   "source": [
    "%%R\n",
    "dim(peppa) %>% print\n",
    "dim(pbmc.combined)"
   ]
  },
  {
   "cell_type": "code",
   "execution_count": 26,
   "id": "3bf1eb92",
   "metadata": {},
   "outputs": [],
   "source": [
    "%%R\n",
    "saveRDS(pbmc.combined, paste0(out.dir, \"/peppa_pbmc_all.rds\"))"
   ]
  },
  {
   "cell_type": "code",
   "execution_count": null,
   "id": "84169a98",
   "metadata": {},
   "outputs": [],
   "source": []
  }
 ],
 "metadata": {
  "kernelspec": {
   "display_name": "Python 3 (ipykernel)",
   "language": "python",
   "name": "python3"
  },
  "language_info": {
   "codemirror_mode": {
    "name": "ipython",
    "version": 3
   },
   "file_extension": ".py",
   "mimetype": "text/x-python",
   "name": "python",
   "nbconvert_exporter": "python",
   "pygments_lexer": "ipython3",
   "version": "3.8.16"
  }
 },
 "nbformat": 4,
 "nbformat_minor": 5
}
