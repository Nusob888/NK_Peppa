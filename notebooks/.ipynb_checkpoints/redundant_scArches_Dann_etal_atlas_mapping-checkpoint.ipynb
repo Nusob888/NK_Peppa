{
 "cells": [
  {
   "cell_type": "code",
   "execution_count": 1,
   "id": "6112ec02",
   "metadata": {},
   "outputs": [
    {
     "name": "stderr",
     "output_type": "stream",
     "text": [
      "Global seed set to 0\n",
      "/gpfs2/well/immune-rep/users/vbw431/python/scvi_new-ivybridge/lib/python3.9/site-packages/pytorch_lightning/utilities/warnings.py:53: LightningDeprecationWarning: pytorch_lightning.utilities.warnings.rank_zero_deprecation has been deprecated in v1.6 and will be removed in v1.8. Use the equivalent function from the pytorch_lightning.utilities.rank_zero module instead.\n",
      "  new_rank_zero_deprecation(\n",
      "/gpfs2/well/immune-rep/users/vbw431/python/scvi_new-ivybridge/lib/python3.9/site-packages/pytorch_lightning/utilities/warnings.py:58: LightningDeprecationWarning: The `pytorch_lightning.loggers.base.rank_zero_experiment` is deprecated in v1.7 and will be removed in v1.9. Please use `pytorch_lightning.loggers.logger.rank_zero_experiment` instead.\n",
      "  return new_rank_zero_deprecation(*args, **kwargs)\n"
     ]
    }
   ],
   "source": [
    "import os\n",
    "import sys\n",
    "import pandas as pd\n",
    "import numpy as np\n",
    "import matplotlib.pyplot as plt\n",
    "import matplotlib.font_manager\n",
    "import seaborn as sns\n",
    "import anndata\n",
    "import scvi\n",
    "import scanpy as sc\n",
    "import re\n",
    "from scipy import sparse\n"
   ]
  },
  {
   "cell_type": "code",
   "execution_count": 2,
   "id": "73a82b92",
   "metadata": {},
   "outputs": [],
   "source": [
    "cur_dir = \"/well/immune-rep/users/vbw431/Projects/Peppa/data/DIMITRA_FASTQ/\"\n",
    "work_dir = \"/well/immune-rep/users/vbw431/Projects/Peppa/\"\n",
    "out_dir = \"/well/immune-rep/users/vbw431/Projects/Peppa/out/\"\n",
    "new_out_dir = \"/well/immune-rep/users/vbw431/Projects/Peppa/new_analysis/data/\"\n",
    "plot_dir = \"/well/immune-rep/users/vbw431/Projects/Peppa/new_analysis/out/plots/\"\n",
    "\n",
    "references = \"/well/immune-rep/users/vbw431/reference/reference/refdata-gex-GRCh38-2020-A/\"\n"
   ]
  },
  {
   "cell_type": "code",
   "execution_count": 5,
   "id": "505c7679",
   "metadata": {},
   "outputs": [],
   "source": [
    "##load data\n",
    "adata = sc.read_h5ad(\"/well/immune-rep/users/vbw431/Projects/Peppa/out/peppa_azi_combat.h5ad\")\n"
   ]
  },
  {
   "cell_type": "code",
   "execution_count": 9,
   "id": "4ba75c80",
   "metadata": {},
   "outputs": [
    {
     "data": {
      "text/plain": [
       "AAACCTGAGAACAACT-1-HIVHBV_C    HIVHBV_C\n",
       "AAACCTGAGAGACTAT-1-HIVHBV_C    HIVHBV_C\n",
       "AAACCTGAGAGTACAT-1-HIVHBV_C    HIVHBV_C\n",
       "AAACCTGAGAGTCGGT-1-HIVHBV_C    HIVHBV_C\n",
       "AAACCTGAGCCAGTTT-1-HIVHBV_C    HIVHBV_C\n",
       "                                 ...   \n",
       "TTTATGCGTTCGGCAC-1-gPlexK7       gPlexK\n",
       "TTTCCTCCACATGACT-1-gPlexK7       gPlexK\n",
       "TTTGTCACAATGGTCT-1-gPlexK7       gPlexK\n",
       "TTTGTCACATGTCGAT-1-gPlexK7       gPlexK\n",
       "TTTGTCATCCTCTAGC-1-gPlexK7       gPlexK\n",
       "Name: sample_ID, Length: 421390, dtype: object"
      ]
     },
     "execution_count": 9,
     "metadata": {},
     "output_type": "execute_result"
    }
   ],
   "source": [
    "tmp = adata.obs[[\"sample_ID\",\"lane\",\"Pool_ID\"]].bfill(axis=1).iloc[:, 0]\n",
    "tmp\n",
    "\n",
    "adata.obs[\"sequencing_batch\"] = tmp.copy()"
   ]
  },
  {
   "cell_type": "code",
   "execution_count": 11,
   "id": "879ad011",
   "metadata": {},
   "outputs": [
    {
     "data": {
      "text/plain": [
       "(421390,)"
      ]
     },
     "execution_count": 11,
     "metadata": {},
     "output_type": "execute_result"
    }
   ],
   "source": []
  },
  {
   "cell_type": "markdown",
   "id": "cbbfbdae",
   "metadata": {},
   "source": [
    "## Aim here is to broadly map datasets to a reference atlas \n",
    "(https://www.biorxiv.org/content/10.1101/2022.11.10.515939v1)"
   ]
  },
  {
   "cell_type": "code",
   "execution_count": null,
   "id": "75bbc4c6",
   "metadata": {},
   "outputs": [],
   "source": [
    "##load dann reference v2\n",
    "adata_ref = sc.read_h5ad(\"/well/immune-rep/users/vbw431/reference/dann_ref/adata.h5ad\")\n"
   ]
  },
  {
   "cell_type": "code",
   "execution_count": null,
   "id": "2cfe3b9d",
   "metadata": {},
   "outputs": [],
   "source": [
    "##Use dann reference gene names as an anchor to convert to gene symbols \n",
    "annot = adata_ref.var.set_index(\"gene_name\").copy()\n",
    "\n",
    "adata.var[annot.columns] = annot\n",
    "cleanedList = adata.var_names[~adata.var[\"gene_id\"].isnull()]\n",
    "adata= adata[:, cleanedList].copy()\n",
    "\n",
    "adata.shape\n"
   ]
  },
  {
   "cell_type": "code",
   "execution_count": null,
   "id": "acaf62ac",
   "metadata": {},
   "outputs": [],
   "source": [
    "##set var names to ensemblID\n",
    "adata.var[\"orig_gene_name\"] = adata.var_names\n",
    "\n",
    "adata.var_names = adata.var[\"gene_id\"]\n",
    "\n",
    "adata.var"
   ]
  },
  {
   "cell_type": "code",
   "execution_count": null,
   "id": "7a5ed41d",
   "metadata": {},
   "outputs": [],
   "source": [
    "##assign counts layer \n",
    "adata.layers[\"counts\"] = adata.X.copy()\n"
   ]
  },
  {
   "cell_type": "code",
   "execution_count": null,
   "id": "7236ac54",
   "metadata": {},
   "outputs": [],
   "source": [
    "\n",
    "from sklearn.preprocessing import LabelEncoder\n",
    "\n",
    "LE = LabelEncoder()\n",
    "adata.obs[\"batch\"] = LE.fit_transform(adata.obs[\"sequencing_batch\"])\n",
    "\n"
   ]
  },
  {
   "cell_type": "code",
   "execution_count": null,
   "id": "4a0ea4b6",
   "metadata": {},
   "outputs": [],
   "source": [
    "adata.obs[\"_scvi_batch\"] = adata.obs[\"batch\"].copy()\n"
   ]
  },
  {
   "cell_type": "code",
   "execution_count": null,
   "id": "d57b725d",
   "metadata": {},
   "outputs": [],
   "source": [
    "## prepare query data - Peppa lab\n",
    "dir_path = \"/well/immune-rep/users/vbw431/reference/dann_ref/model_covid\"\n",
    "adata.obs[\"_scvi_labels\"] = 0\n",
    "\n",
    "scvi.model.SCVI.prepare_query_anndata(adata, dir_path)\n"
   ]
  },
  {
   "cell_type": "code",
   "execution_count": null,
   "id": "b04f3ecf",
   "metadata": {},
   "outputs": [],
   "source": [
    "vae_ref= scvi.model.SCVI.load(dir_path)"
   ]
  },
  {
   "cell_type": "code",
   "execution_count": null,
   "id": "d016ede3",
   "metadata": {},
   "outputs": [],
   "source": [
    "vae_ref"
   ]
  },
  {
   "cell_type": "code",
   "execution_count": null,
   "id": "5496d188",
   "metadata": {},
   "outputs": [],
   "source": [
    "#setup model query\n",
    "vae_q = scvi.model.SCVI.load_query_data(\n",
    "    adata,\n",
    "    vae_ref,\n",
    ")"
   ]
  },
  {
   "cell_type": "code",
   "execution_count": null,
   "id": "e39409c7",
   "metadata": {},
   "outputs": [],
   "source": [
    "##set surgery params\n",
    "\n",
    "surgery_epochs = 200\n",
    "train_kwargs_surgery = {\n",
    "    \"early_stopping\": True,\n",
    "    \"early_stopping_monitor\": \"elbo_train\",\n",
    "    \"early_stopping_patience\": 10,\n",
    "    \"early_stopping_min_delta\": 0.001,\n",
    "    \"plan_kwargs\": {\"weight_decay\": 0.0},\n",
    "}\n",
    "\n"
   ]
  },
  {
   "cell_type": "code",
   "execution_count": null,
   "id": "98237542",
   "metadata": {},
   "outputs": [],
   "source": [
    "##train model\n",
    "vae_q.train(max_epochs=surgery_epochs,use_gpu = 1,batch_size=256, **train_kwargs_surgery)\n",
    "\n",
    "vae_q.save(\"/well/immune-rep/users/vbw431/reference/dann_ref/model_covid_q\", save_anndata=True,overwrite=True)\n"
   ]
  },
  {
   "cell_type": "code",
   "execution_count": null,
   "id": "0609a252",
   "metadata": {},
   "outputs": [],
   "source": [
    "##generate latent space and run umap\n",
    "\n",
    "adata.obsm[\"X_scVI\"] = vae_q.get_latent_representation(adata)\n",
    "\n",
    "sc.pp.neighbors(adata, use_rep=\"X_scVI\", metric=\"cosine\",n_neighbors=50)\n",
    "sc.tl.umap(adata)\n"
   ]
  },
  {
   "cell_type": "code",
   "execution_count": null,
   "id": "17036bd2",
   "metadata": {},
   "outputs": [],
   "source": [
    "##plot umap\n",
    "\n",
    "with plt.rc_context():\n",
    "  sc.pl.umap(\n",
    "    adata,\n",
    "    color=[\"Ref_lab\", \"batch\",\"percent.mt\", \"QC_label\", \"solo_classification\"],\n",
    "    frameon=False,\n",
    "    ncols=1,\n",
    "    title=\"SCVI_Core+Extension\",\n",
    "  #     legend_fontoutline=1,\n",
    "  #     size=5,\n",
    "  )\n",
    "  plt.savefig(plot_dir+\"/SCVI_dann_ref_umap.png\", bbox_inches=\"tight\", dpi=300)\n"
   ]
  },
  {
   "cell_type": "code",
   "execution_count": null,
   "id": "7b693184",
   "metadata": {},
   "outputs": [],
   "source": [
    "## generate 2D mde dim reduction\n",
    "import pymde\n",
    "from scvi.model.utils import mde\n",
    "adata.obsm[\"X_mde\"] = mde(adata.obsm[\"X_scVI\"])\n"
   ]
  },
  {
   "cell_type": "code",
   "execution_count": null,
   "id": "13bf3913",
   "metadata": {},
   "outputs": [],
   "source": [
    "##plot\n",
    "with plt.rc_context():\n",
    "    sc.pl.embedding(\n",
    "        adata,\n",
    "        basis=\"X_mde\",\n",
    "        color=[\"Ref_lab\", \"batch\",\"percent.mt\"],\n",
    "        frameon=False,\n",
    "        ncols=1,\n",
    "    )\n",
    "    plt.savefig(plot_dir+\"SCVI_dann_ref_mde.png\", bbox_inches=\"tight\", dpi=300)\n"
   ]
  },
  {
   "cell_type": "code",
   "execution_count": null,
   "id": "793812a6",
   "metadata": {},
   "outputs": [],
   "source": [
    "##save\n",
    "\n",
    "adata.write_h5ad(\"/well/immune-rep/users/vbw431/Projects/Peppa/new_analysis/data/Peppa_azimuth_SCVI_dann_mapped.h5ad\")\n"
   ]
  },
  {
   "cell_type": "code",
   "execution_count": null,
   "id": "15cf0393",
   "metadata": {},
   "outputs": [],
   "source": [
    "set(adata.obs[\"batch\"])"
   ]
  },
  {
   "cell_type": "code",
   "execution_count": null,
   "id": "906ab446",
   "metadata": {},
   "outputs": [],
   "source": []
  }
 ],
 "metadata": {
  "kernelspec": {
   "display_name": "Python 3 (ipykernel)",
   "language": "python",
   "name": "python3"
  },
  "language_info": {
   "codemirror_mode": {
    "name": "ipython",
    "version": 3
   },
   "file_extension": ".py",
   "mimetype": "text/x-python",
   "name": "python",
   "nbconvert_exporter": "python",
   "pygments_lexer": "ipython3",
   "version": "3.9.6"
  }
 },
 "nbformat": 4,
 "nbformat_minor": 5
}
