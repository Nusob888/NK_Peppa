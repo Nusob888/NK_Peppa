{
 "cells": [
  {
   "cell_type": "code",
   "execution_count": 1,
   "id": "3923562b",
   "metadata": {},
   "outputs": [],
   "source": [
    "import os\n",
    "import sys\n",
    "import pandas as pd\n",
    "import numpy as np\n",
    "import matplotlib.pyplot as plt\n",
    "import matplotlib.font_manager\n",
    "import seaborn as sns\n",
    "import anndata\n",
    "import scanpy as sc\n",
    "import re\n",
    "import decoupler as dc\n",
    "import sc_toolbox\n",
    "import random\n",
    "import seaborn.objects as so"
   ]
  },
  {
   "cell_type": "code",
   "execution_count": 2,
   "id": "e2fdee25",
   "metadata": {},
   "outputs": [],
   "source": [
    "data_dir = \"/well/immune-rep/users/vbw431/Projects/Peppa/data/\"\n",
    "newdata_dir = \"/well/immune-rep/users/vbw431/Projects/Peppa/new_analysis/data/\"\n",
    "plot_dir = \"/well/immune-rep/users/vbw431/Projects/Peppa/new_out/final_plots/\"\n",
    "\n",
    "sys.path = sys.path + [\"/well/immune-rep/users/vbw431/python_utils/\"]"
   ]
  },
  {
   "cell_type": "code",
   "execution_count": 3,
   "id": "f7702ad5",
   "metadata": {},
   "outputs": [
    {
     "name": "stderr",
     "output_type": "stream",
     "text": [
      "/well/immune-rep/users/vbw431/conda/ivybridge/envs/scverse_new/lib/python3.8/site-packages/rpy2/robjects/lib/ggplot2.py:70: UserWarning: This was designed againt ggplot2 versions starting with 3.3. but you have 3.4.2\n",
      "  warnings.warn(\n"
     ]
    }
   ],
   "source": [
    "import rpy2.rinterface_lib.callbacks\n",
    "import anndata2ri\n",
    "import logging\n",
    "import rpy2.robjects.lib.ggplot2 as gp\n",
    "from rpy2.robjects import pandas2ri\n",
    "from rpy2.robjects import r\n",
    "from rpy2.ipython.ggplot import image_png\n",
    "\n",
    "#sc.settings.verbosity = 0\n",
    "rpy2.rinterface_lib.callbacks.logger.setLevel(logging.ERROR)\n",
    "\n",
    "pandas2ri.activate()\n",
    "anndata2ri.activate()\n",
    "%load_ext rpy2.ipython"
   ]
  },
  {
   "cell_type": "code",
   "execution_count": 4,
   "id": "a30e5ae4",
   "metadata": {},
   "outputs": [
    {
     "name": "stdout",
     "output_type": "stream",
     "text": [
      "-- Attaching core tidyverse packages ------------------------ tidyverse 2.0.0 --\n",
      "v dplyr     1.1.2     v readr     2.1.4\n",
      "v forcats   1.0.0     v stringr   1.5.0\n",
      "v lubridate 1.9.2     v tibble    3.2.1\n",
      "v purrr     1.0.1     v tidyr     1.3.0\n",
      "-- Conflicts ------------------------------------------ tidyverse_conflicts() --\n",
      "x purrr::%@%()                 masks rlang::%@%()\n",
      "x lazyeval::as_name()          masks rlang::as_name()\n",
      "x lazyeval::call_modify()      masks rlang::call_modify()\n",
      "x lazyeval::call_standardise() masks rlang::call_standardise()\n",
      "x lazyeval::expr_label()       masks rlang::expr_label()\n",
      "x lazyeval::expr_text()        masks rlang::expr_text()\n",
      "x lazyeval::f_env()            masks rlang::f_env()\n",
      "x lazyeval::f_env<-()          masks rlang::f_env<-()\n",
      "x lazyeval::f_label()          masks rlang::f_label()\n",
      "x lazyeval::f_lhs()            masks rlang::f_lhs()\n",
      "x lazyeval::f_lhs<-()          masks rlang::f_lhs<-()\n",
      "x lazyeval::f_rhs()            masks rlang::f_rhs()\n",
      "x lazyeval::f_rhs<-()          masks rlang::f_rhs<-()\n",
      "x lazyeval::f_text()           masks rlang::f_text()\n",
      "x dplyr::filter()              masks stats::filter()\n",
      "x purrr::flatten()             masks rlang::flatten()\n",
      "x purrr::flatten_chr()         masks rlang::flatten_chr()\n",
      "x purrr::flatten_dbl()         masks rlang::flatten_dbl()\n",
      "x purrr::flatten_int()         masks rlang::flatten_int()\n",
      "x purrr::flatten_lgl()         masks rlang::flatten_lgl()\n",
      "x purrr::flatten_raw()         masks rlang::flatten_raw()\n",
      "x purrr::invoke()              masks rlang::invoke()\n",
      "x purrr::is_atomic()           masks lazyeval::is_atomic(), rlang::is_atomic()\n",
      "x lazyeval::is_call()          masks rlang::is_call()\n",
      "x purrr::is_formula()          masks lazyeval::is_formula(), rlang::is_formula()\n",
      "x lazyeval::is_lang()          masks rlang::is_lang()\n",
      "x dplyr::lag()                 masks stats::lag()\n",
      "x lazyeval::missing_arg()      masks rlang::missing_arg()\n",
      "x purrr::splice()              masks rlang::splice()\n",
      "i Use the conflicted package (<http://conflicted.r-lib.org/>) to force all conflicts to become errors\n",
      "\n",
      "    WARNING: The R package \"reticulate\" only fixed recently\n",
      "    an issue that caused a segfault when used with rpy2:\n",
      "    https://github.com/rstudio/reticulate/pull/1188\n",
      "    Make sure that you use a version of that package that includes\n",
      "    the fix.\n",
      "    "
     ]
    }
   ],
   "source": [
    "%%R\n",
    ".libPaths(c(paste0(\"/well/immune-rep/users/vbw431/conda/ivybridge/envs/scverse_new/r_modules\"), .libPaths()))\n",
    "\n",
    "library(tidyverse)\n",
    "library(Seurat)\n",
    "library(SCPA)\n",
    "\n",
    "cur.dir = \"/well/immune-rep/users/vbw431/Projects/Peppa/data/DIMITRA_FASTQ/\"\n",
    "work.dir = \"/well/immune-rep/users/vbw431/Projects/Peppa/\"\n",
    "out.dir = \"/well/immune-rep/users/vbw431/Projects/Peppa/new_analysis/out/\"\n",
    "references = \"/well/immune-rep/users/vbw431/reference/reference/refdata-gex-GRCh38-2020-A/\"\n",
    "com.out = \"/well/immune-rep/users/vbw431/Projects/Peppa/reference_combat/\"\n",
    "\n",
    "##plotting\n",
    "library(ggplot2); theme_set(theme_bw(base_size = 18)+\n",
    "                              theme(strip.text = element_text(colour = 'black', face=\"bold\",size=12), \n",
    "                                    panel.grid.major = element_blank(), \n",
    "                                    panel.grid.minor = element_blank(),\n",
    "                                    panel.border = element_rect(size = 0.7),\n",
    "                                    axis.ticks.length=unit(.10, \"cm\"),\n",
    "                                    axis.ticks = element_line(size=0.7),\n",
    "                                    strip.background = element_blank()))\n",
    "\n"
   ]
  },
  {
   "cell_type": "code",
   "execution_count": 5,
   "id": "2c280577",
   "metadata": {},
   "outputs": [],
   "source": [
    "%%R\n",
    "library(msigdbr)\n",
    "library(magrittr)\n",
    "\n",
    "pathways <- c(\"hallmark\", \"kegg\", \"reactome\", \"biocarta\", \"gobp\")\n",
    "hkr_sets <- msigdbr(\"Homo sapiens\") %>%\n",
    "  filter(grepl(paste(pathways, collapse = \"|\"), gs_name, ignore.case = T)) %>%\n",
    "  format_pathways()\n",
    "\n",
    "metabolic_pathways <- paste0(work.dir, \"ref_pathways/combined_metabolic_pathways.csv\")"
   ]
  },
  {
   "cell_type": "code",
   "execution_count": 6,
   "id": "6ac7b231",
   "metadata": {},
   "outputs": [],
   "source": [
    "%%R \n",
    "\n",
    "##load, normalise  and trim to remove pre_treatment replicates and post vaccine samples from azimuth\n",
    "\n",
    "peppa <- readRDS(paste0(out.dir, \"/peppa_pbmc_all.rds\"))\n",
    "\n",
    "##filter pre vaccination samples and pre treatment samples out\n",
    "peppa <- subset(peppa, subset = Treatment_status != \"Pre_treatment\")\n",
    "\n",
    "trim_barcodes <- peppa@meta.data %>% \n",
    "  dplyr::select(orig.ident) %>%\n",
    "  dplyr::filter(grepl(\"_0|SeuratProject\", orig.ident))\n",
    "table(trim_barcodes)\n",
    "\n",
    "peppa <- subset(peppa, cells = rownames(trim_barcodes))\n",
    "\n"
   ]
  },
  {
   "cell_type": "code",
   "execution_count": 7,
   "id": "d607dbf2",
   "metadata": {},
   "outputs": [],
   "source": [
    "%%R\n",
    "peppa@meta.data$scpa_celltype <- ifelse(grepl(\"cDC1|cDC2\", peppa@meta.data$celltype_consensus.l2), \"cDC\",\n",
    "                                             ifelse(grepl(\"pDC\",peppa@meta.data$celltype_consensus.l2), \"pDC\",\n",
    "                                             ifelse(grepl(\"CD8.Naive\",peppa@meta.data$celltype_consensus.l2), \"CD8 Naive\",\n",
    "                                             ifelse(grepl(\"CD4.Naive\",peppa@meta.data$celltype_consensus.l2), \"CD4 Naive\",\n",
    "                                            ifelse(grepl(\"CD8.TEM|CD8.TEMRA|CD8.TCM|MPECs\",peppa@meta.data$celltype_consensus.l2), \"CD8 Memory\",\n",
    "                                            ifelse(grepl(\"CD4.TEM|CD4.TEMRA|CD4.TCM\",peppa@meta.data$celltype_consensus.l2), \"CD4 Memory\",\n",
    "                                            ifelse(grepl(\"Treg\",peppa@meta.data$celltype_consensus.l2), \"CD4 Treg\",\n",
    "                                            ifelse(grepl(\"gdT\",peppa@meta.data$celltype_consensus.l2), \"gdT\",\n",
    "                                            ifelse(grepl(\"MAIT\",peppa@meta.data$celltype_consensus.l2), \"MAIT\",\n",
    "                                            ifelse(grepl(\"NK\",peppa@meta.data$celltype_consensus.l2), \"NK\",\n",
    "                                            ifelse(grepl(\"B.Naive|B.C|B.U|B.DN\",peppa@meta.data$celltype_consensus.l2), \"B\",\n",
    "                                            ifelse(grepl(\"Plasmablast\",peppa@meta.data$celltype_consensus.l2), \"Plasmablast\",\n",
    "                                            ifelse(grepl(\"cMono\",peppa@meta.data$celltype_consensus.l2), \"cMono\",\n",
    "                                            ifelse(grepl(\"ncMono\",peppa@meta.data$celltype_consensus.l2), \"ncMono\",\"low frequency others\"))))))))))))))\n",
    "\n"
   ]
  },
  {
   "cell_type": "code",
   "execution_count": 8,
   "id": "695d4877",
   "metadata": {},
   "outputs": [
    {
     "data": {
      "image/png": "[encoded data removed]",
      "text/plain": [
       "<IPython.core.display.Image object>"
      ]
     },
     "metadata": {},
     "output_type": "display_data"
    }
   ],
   "source": [
    "%%R\n",
    "##plot to sanity check assignments\n",
    "crosstab <- peppa@meta.data %>%\n",
    "    select(scpa_celltype, celltype_consensus.l2) %>%\n",
    "table() \n",
    "\n",
    "pheatmap::pheatmap(log10(crosstab+0.5))\n"
   ]
  },
  {
   "cell_type": "code",
   "execution_count": 9,
   "id": "fc8e8c96",
   "metadata": {},
   "outputs": [],
   "source": [
    "%%R\n",
    "##Normalise data\n",
    "alldata <- subset(peppa, subset = scpa_celltype != \"low frequency others\")\n",
    "\n",
    "alldata <- alldata %>%\n",
    "  NormalizeData() %>%\n",
    "  ScaleData()\n"
   ]
  },
  {
   "cell_type": "code",
   "execution_count": 10,
   "id": "41181f45",
   "metadata": {},
   "outputs": [
    {
     "name": "stdout",
     "output_type": "stream",
     "text": [
      "[1] 40\n"
     ]
    }
   ],
   "source": [
    "%%R\n",
    "parallel::detectCores()"
   ]
  },
  {
   "cell_type": "code",
   "execution_count": 11,
   "id": "5b093441",
   "metadata": {},
   "outputs": [
    {
     "name": "stdout",
     "output_type": "stream",
     "text": [
      "[1] \"comparing NK\"\n",
      "[1] \"comparing CD8 Memory\"\n",
      "[1] \"comparing gdT\"\n",
      "[1] \"comparing MAIT\"\n",
      "[1] \"comparing CD8 Naive\"\n",
      "[1] \"comparing CD4 Naive\"\n",
      "[1] \"comparing CD4 Memory\"\n",
      "[1] \"comparing CD4 Treg\"\n",
      "[1] \"comparing B\"\n",
      "[1] \"comparing Plasmablast\"\n",
      "[1] \"comparing cMono\"\n",
      "[1] \"comparing pDC\"\n",
      "[1] \"comparing cDC\"\n"
     ]
    }
   ],
   "source": [
    "%%R\n",
    "##perform SCPA on all NKs\n",
    "alldata <- subset(peppa, subset = scpa_celltype != \"low frequency others\")\n",
    "\n",
    "cell_types <- unique(alldata$scpa_celltype)\n",
    "alldata <- SplitObject(alldata, split.by = \"study_disease\")\n",
    "\n",
    "\n",
    "##perform for all pathways\n",
    "scpa_all <- list()\n",
    "for (i in cell_types) {\n",
    "  \n",
    "  HBV <- seurat_extract(alldata$HBV, \n",
    "                            meta1 = \"scpa_celltype\", value_meta1 = i)\n",
    "  \n",
    "  HBV_HIV <- seurat_extract(alldata$HBV_HIV, \n",
    "                          meta1 = \"scpa_celltype\", value_meta1 = i)\n",
    "  \n",
    "  print(paste(\"comparing\", i))\n",
    "  scpa_all[[i]] <- compare_pathways(list(HBV, HBV_HIV), hkr_sets, parallel= TRUE, cores = 20) \n",
    "\n",
    "# For faster analysis with parallel processing, use 'parallel = TRUE' and 'cores = x' arguments\n",
    "  \n",
    "}\n",
    "\n",
    "\n"
   ]
  },
  {
   "cell_type": "code",
   "execution_count": 12,
   "id": "fc76b125",
   "metadata": {},
   "outputs": [
    {
     "name": "stdout",
     "output_type": "stream",
     "text": [
      "[1] \"comparing NK\"\n",
      "[1] \"comparing CD8 Memory\"\n",
      "[1] \"comparing gdT\"\n",
      "[1] \"comparing MAIT\"\n",
      "[1] \"comparing CD8 Naive\"\n",
      "[1] \"comparing CD4 Naive\"\n",
      "[1] \"comparing CD4 Memory\"\n",
      "[1] \"comparing CD4 Treg\"\n",
      "[1] \"comparing B\"\n",
      "[1] \"comparing Plasmablast\"\n",
      "[1] \"comparing cMono\"\n",
      "[1] \"comparing pDC\"\n",
      "[1] \"comparing cDC\"\n"
     ]
    }
   ],
   "source": [
    "%%R\n",
    "\n",
    "##perform for metabolic pathways\n",
    "scpa_metab_all <- list()\n",
    "for (i in cell_types) {\n",
    "  \n",
    "  HBV <- seurat_extract(alldata$HBV, \n",
    "                            meta1 = \"scpa_celltype\", value_meta1 = i)\n",
    "  \n",
    "  HBV_HIV <- seurat_extract(alldata$HBV_HIV, \n",
    "                          meta1 = \"scpa_celltype\", value_meta1 = i)\n",
    "  \n",
    "  print(paste(\"comparing\", i))\n",
    "  scpa_metab_all[[i]] <- compare_pathways(list(HBV, HBV_HIV), metabolic_pathways, parallel= TRUE, cores = 20) \n",
    "\n",
    "# For faster analysis with parallel processing, use 'parallel = TRUE' and 'cores = x' arguments\n",
    "  \n",
    "}\n"
   ]
  },
  {
   "cell_type": "code",
   "execution_count": 13,
   "id": "52fee140",
   "metadata": {},
   "outputs": [
    {
     "name": "stdout",
     "output_type": "stream",
     "text": [
      "[1] \"comparing NK.Adaptive.CCL4.CCL3\"\n",
      "[1] \"comparing NK.Adaptive\"\n",
      "[1] \"comparing NK.Mature\"\n",
      "[1] \"comparing NK.CD56bright\"\n",
      "[1] \"comparing NK.Prolifering\"\n"
     ]
    }
   ],
   "source": [
    "%%R\n",
    "peppa <- subset(peppa, subset = celltype_consensus.l1 == \"NK\")\n",
    "\n",
    "cell_types <- unique(peppa$celltype_consensus.l2)\n",
    "peppa <- SplitObject(peppa, split.by = \"study_disease\")\n",
    "\n",
    "scpa_out <- list()\n",
    "for (i in cell_types) {\n",
    "  \n",
    "  HBV <- seurat_extract(peppa$HBV, \n",
    "                            meta1 = \"celltype_consensus.l2\", value_meta1 = i)\n",
    "  \n",
    "  HBV_HIV <- seurat_extract(peppa$HBV_HIV, \n",
    "                          meta1 = \"celltype_consensus.l2\", value_meta1 = i)\n",
    "  \n",
    "  print(paste(\"comparing\", i))\n",
    "  scpa_out[[i]] <- compare_pathways(list(HBV, HBV_HIV), hkr_sets, parallel= TRUE, cores = 8) \n",
    "\n",
    "# For faster analysis with parallel processing, use 'parallel = TRUE' and 'cores = x' arguments\n",
    "  \n",
    "}"
   ]
  },
  {
   "cell_type": "code",
   "execution_count": 14,
   "id": "23e9766a",
   "metadata": {},
   "outputs": [
    {
     "name": "stdout",
     "output_type": "stream",
     "text": [
      "[1] \"comparing NK.Adaptive.CCL4.CCL3\"\n",
      "[1] \"comparing NK.Adaptive\"\n",
      "[1] \"comparing NK.Mature\"\n",
      "[1] \"comparing NK.CD56bright\"\n",
      "[1] \"comparing NK.Prolifering\"\n"
     ]
    }
   ],
   "source": [
    "%%R\n",
    "scpa_metab_out <- list()\n",
    "for (i in cell_types) {\n",
    "  \n",
    "  HBV <- seurat_extract(peppa$HBV, \n",
    "                            meta1 = \"celltype_consensus.l2\", value_meta1 = i)\n",
    "  \n",
    "  HBV_HIV <- seurat_extract(peppa$HBV_HIV, \n",
    "                          meta1 = \"celltype_consensus.l2\", value_meta1 = i)\n",
    "  \n",
    "  print(paste(\"comparing\", i))\n",
    "  scpa_metab_out[[i]] <- compare_pathways(list(HBV, HBV_HIV), metabolic_pathways, parallel= TRUE, cores = 8) \n",
    "\n",
    "# For faster analysis with parallel processing, use 'parallel = TRUE' and 'cores = x' arguments\n",
    "  \n",
    "}"
   ]
  },
  {
   "cell_type": "code",
   "execution_count": 15,
   "id": "3d55c811",
   "metadata": {},
   "outputs": [],
   "source": [
    "%%R\n",
    "saveRDS(scpa_all, paste0(out.dir, \"/scpa_all.rds\"))\n",
    "saveRDS(scpa_metab_all, paste0(out.dir, \"/scpa_metab_all.rds\"))\n",
    "saveRDS(scpa_out, paste0(out.dir, \"/scpa_subset.rds\"))\n",
    "saveRDS(scpa_metab_out, paste0(out.dir, \"/scpa_metab_subset.rds\"))"
   ]
  },
  {
   "cell_type": "code",
   "execution_count": null,
   "id": "79947d2c",
   "metadata": {},
   "outputs": [],
   "source": []
  }
 ],
 "metadata": {
  "kernelspec": {
   "display_name": "Python 3 (ipykernel)",
   "language": "python",
   "name": "python3"
  },
  "language_info": {
   "codemirror_mode": {
    "name": "ipython",
    "version": 3
   },
   "file_extension": ".py",
   "mimetype": "text/x-python",
   "name": "python",
   "nbconvert_exporter": "python",
   "pygments_lexer": "ipython3",
   "version": "3.8.16"
  }
 },
 "nbformat": 4,
 "nbformat_minor": 5
}
