{
 "cells": [
  {
   "cell_type": "code",
   "execution_count": 1,
   "id": "2c7b10a1",
   "metadata": {},
   "outputs": [
    {
     "data": {
      "text/html": [
       "<pre style=\"white-space:pre;overflow-x:auto;line-height:normal;font-family:Menlo,'DejaVu Sans Mono',consolas,'Courier New',monospace\"><span style=\"color: #800000; text-decoration-color: #800000; font-weight: bold\">Installed version </span><span style=\"color: #800000; text-decoration-color: #800000; font-weight: bold\">0.12</span><span style=\"color: #800000; text-decoration-color: #800000; font-weight: bold\">.</span><span style=\"color: #800000; text-decoration-color: #800000; font-weight: bold\">1</span><span style=\"color: #800000; text-decoration-color: #800000; font-weight: bold\"> of sc-toolbox is outdated. Newest version is </span><span style=\"color: #800000; text-decoration-color: #800000; font-weight: bold\">0.12</span><span style=\"color: #800000; text-decoration-color: #800000; font-weight: bold\">.</span><span style=\"color: #800000; text-decoration-color: #800000; font-weight: bold\">3</span><span style=\"color: #800000; text-decoration-color: #800000; font-weight: bold\">!</span>\n",
       "</pre>\n"
      ],
      "text/plain": [
       "\u001b[1;31mInstalled version \u001b[0m\u001b[1;31m0.12\u001b[0m\u001b[1;31m.\u001b[0m\u001b[1;31m1\u001b[0m\u001b[1;31m of sc-toolbox is outdated. Newest version is \u001b[0m\u001b[1;31m0.12\u001b[0m\u001b[1;31m.\u001b[0m\u001b[1;31m3\u001b[0m\u001b[1;31m!\u001b[0m\n"
      ]
     },
     "metadata": {},
     "output_type": "display_data"
    }
   ],
   "source": [
    "import os\n",
    "import sys\n",
    "import pandas as pd\n",
    "import numpy as np\n",
    "import matplotlib.pyplot as plt\n",
    "import matplotlib.font_manager\n",
    "import seaborn as sns\n",
    "import anndata\n",
    "import scanpy as sc\n",
    "import re\n",
    "import decoupler as dc\n",
    "import sc_toolbox\n",
    "import random\n",
    "import seaborn.objects as so"
   ]
  },
  {
   "cell_type": "code",
   "execution_count": 2,
   "id": "e8f6b2b7",
   "metadata": {},
   "outputs": [],
   "source": [
    "data_dir = \"/well/immune-rep/users/vbw431/Projects/Peppa/data/\"\n",
    "newdata_dir = \"/well/immune-rep/users/vbw431/Projects/Peppa/new_analysis/data/\"\n",
    "plot_dir = \"/well/immune-rep/users/vbw431/Projects/Peppa/new_out/final_plots/\"\n",
    "\n",
    "sys.path = sys.path + [\"/well/immune-rep/users/vbw431/python_utils/\"]"
   ]
  },
  {
   "cell_type": "code",
   "execution_count": 3,
   "id": "a7de26e5",
   "metadata": {},
   "outputs": [
    {
     "name": "stderr",
     "output_type": "stream",
     "text": [
      "/well/immune-rep/users/vbw431/conda/ivybridge/envs/scverse_new/lib/python3.8/site-packages/rpy2/robjects/lib/ggplot2.py:70: UserWarning: This was designed againt ggplot2 versions starting with 3.3. but you have 3.4.2\n",
      "  warnings.warn(\n"
     ]
    }
   ],
   "source": [
    "import rpy2.rinterface_lib.callbacks\n",
    "import anndata2ri\n",
    "import logging\n",
    "import rpy2.robjects.lib.ggplot2 as gp\n",
    "from rpy2.robjects import pandas2ri\n",
    "from rpy2.robjects import r\n",
    "from rpy2.ipython.ggplot import image_png\n",
    "\n",
    "#sc.settings.verbosity = 0\n",
    "rpy2.rinterface_lib.callbacks.logger.setLevel(logging.ERROR)\n",
    "\n",
    "pandas2ri.activate()\n",
    "anndata2ri.activate()\n",
    "%load_ext rpy2.ipython"
   ]
  },
  {
   "cell_type": "code",
   "execution_count": 4,
   "id": "85501a7f",
   "metadata": {},
   "outputs": [
    {
     "name": "stdout",
     "output_type": "stream",
     "text": [
      "-- Attaching core tidyverse packages ------------------------ tidyverse 2.0.0 --\n",
      "v dplyr     1.1.2     v readr     2.1.4\n",
      "v forcats   1.0.0     v stringr   1.5.0\n",
      "v lubridate 1.9.2     v tibble    3.2.1\n",
      "v purrr     1.0.1     v tidyr     1.3.0\n",
      "-- Conflicts ------------------------------------------ tidyverse_conflicts() --\n",
      "x purrr::%@%()                 masks rlang::%@%()\n",
      "x lazyeval::as_name()          masks rlang::as_name()\n",
      "x lazyeval::call_modify()      masks rlang::call_modify()\n",
      "x lazyeval::call_standardise() masks rlang::call_standardise()\n",
      "x lazyeval::expr_label()       masks rlang::expr_label()\n",
      "x lazyeval::expr_text()        masks rlang::expr_text()\n",
      "x lazyeval::f_env()            masks rlang::f_env()\n",
      "x lazyeval::f_env<-()          masks rlang::f_env<-()\n",
      "x lazyeval::f_label()          masks rlang::f_label()\n",
      "x lazyeval::f_lhs()            masks rlang::f_lhs()\n",
      "x lazyeval::f_lhs<-()          masks rlang::f_lhs<-()\n",
      "x lazyeval::f_rhs()            masks rlang::f_rhs()\n",
      "x lazyeval::f_rhs<-()          masks rlang::f_rhs<-()\n",
      "x lazyeval::f_text()           masks rlang::f_text()\n",
      "x dplyr::filter()              masks stats::filter()\n",
      "x purrr::flatten()             masks rlang::flatten()\n",
      "x purrr::flatten_chr()         masks rlang::flatten_chr()\n",
      "x purrr::flatten_dbl()         masks rlang::flatten_dbl()\n",
      "x purrr::flatten_int()         masks rlang::flatten_int()\n",
      "x purrr::flatten_lgl()         masks rlang::flatten_lgl()\n",
      "x purrr::flatten_raw()         masks rlang::flatten_raw()\n",
      "x purrr::invoke()              masks rlang::invoke()\n",
      "x purrr::is_atomic()           masks lazyeval::is_atomic(), rlang::is_atomic()\n",
      "x lazyeval::is_call()          masks rlang::is_call()\n",
      "x purrr::is_formula()          masks lazyeval::is_formula(), rlang::is_formula()\n",
      "x lazyeval::is_lang()          masks rlang::is_lang()\n",
      "x dplyr::lag()                 masks stats::lag()\n",
      "x lazyeval::missing_arg()      masks rlang::missing_arg()\n",
      "x purrr::splice()              masks rlang::splice()\n",
      "i Use the conflicted package (<http://conflicted.r-lib.org/>) to force all conflicts to become errors\n",
      "\n",
      "    WARNING: The R package \"reticulate\" only fixed recently\n",
      "    an issue that caused a segfault when used with rpy2:\n",
      "    https://github.com/rstudio/reticulate/pull/1188\n",
      "    Make sure that you use a version of that package that includes\n",
      "    the fix.\n",
      "    "
     ]
    }
   ],
   "source": [
    "%%R\n",
    ".libPaths(c(paste0(\"/well/immune-rep/users/vbw431/conda/ivybridge/envs/scverse_new/r_modules\"), .libPaths()))\n",
    "\n",
    "library(tidyverse)\n",
    "library(Seurat)\n",
    "\n",
    "\n",
    "cur.dir = \"/well/immune-rep/users/vbw431/Projects/Peppa/data/DIMITRA_FASTQ/\"\n",
    "work.dir = \"/well/immune-rep/users/vbw431/Projects/Peppa/\"\n",
    "out.dir = \"/well/immune-rep/users/vbw431/Projects/Peppa/new_analysis/out/\"\n",
    "references = \"/well/immune-rep/users/vbw431/reference/reference/refdata-gex-GRCh38-2020-A/\"\n",
    "com.out = \"/well/immune-rep/users/vbw431/Projects/Peppa/reference_combat/\"\n",
    "\n",
    "##plotting\n",
    "library(ggplot2); theme_set(theme_bw(base_size = 18)+\n",
    "                              theme(strip.text = element_text(colour = 'black', face=\"bold\",size=12), \n",
    "                                    panel.grid.major = element_blank(), \n",
    "                                    panel.grid.minor = element_blank(),\n",
    "                                    panel.border = element_rect(size = 0.7),\n",
    "                                    axis.ticks.length=unit(.10, \"cm\"),\n",
    "                                    axis.ticks = element_line(size=0.7),\n",
    "                                    strip.background = element_blank()))\n",
    "\n"
   ]
  },
  {
   "cell_type": "markdown",
   "id": "4fe94878",
   "metadata": {},
   "source": [
    "## Load Seurat data and Prepare for DGE"
   ]
  },
  {
   "cell_type": "code",
   "execution_count": 5,
   "id": "f2fddd65",
   "metadata": {},
   "outputs": [],
   "source": [
    "%%R \n",
    "\n",
    "##load, normalise  and trim to remove pre_treatment replicates and post vaccine samples from azimuth\n",
    "\n",
    "peppa <- readRDS(paste0(out.dir, \"/peppa_pbmc_all.rds\"))\n",
    "\n",
    "\n"
   ]
  },
  {
   "cell_type": "code",
   "execution_count": 6,
   "id": "a550feab",
   "metadata": {},
   "outputs": [
    {
     "name": "stdout",
     "output_type": "stream",
     "text": [
      "[1] \"Peppa\"   \"Azimuth\"\n"
     ]
    }
   ],
   "source": [
    "%%R \n",
    "unique(peppa@meta.data$Ref_lab)"
   ]
  },
  {
   "cell_type": "code",
   "execution_count": 7,
   "id": "629f284c",
   "metadata": {},
   "outputs": [
    {
     "name": "stdout",
     "output_type": "stream",
     "text": [
      "[1]  23776 118312\n"
     ]
    }
   ],
   "source": [
    "%%R \n",
    "##filter pre vaccination samples and pre treatment samples out\n",
    "peppa <- subset(peppa, subset = Treatment_status != \"Pre_treatment\")\n",
    "peppa <- subset(peppa, subset = Ref_lab == \"Peppa\")\n",
    "\n",
    "\n",
    "print(dim(peppa))\n",
    "\n"
   ]
  },
  {
   "cell_type": "code",
   "execution_count": 8,
   "id": "f67fa87c",
   "metadata": {},
   "outputs": [
    {
     "name": "stdout",
     "output_type": "stream",
     "text": [
      "[1] \"On_PrEP\"      \"On_treatment\"\n"
     ]
    }
   ],
   "source": [
    "%%R\n",
    "unique(peppa@meta.data$Treatment_status)"
   ]
  },
  {
   "cell_type": "code",
   "execution_count": 9,
   "id": "c280e4a6",
   "metadata": {},
   "outputs": [
    {
     "name": "stdout",
     "output_type": "stream",
     "text": [
      "\n",
      "                 ASDC          B.CSW.Memory            B.DN.ITGAX \n",
      "                   35                  1714                   544 \n",
      "              B.Naive        B.Naive.Mitohi     B.Naive.TCLA1_low \n",
      "                 4470                   159                  2294 \n",
      "        B.Plasmablast         B.UNSW.Memory            CD4.Mitohi \n",
      "                  239                  3539                  1534 \n",
      "            CD4.Naive               CD4.TCM               CD4.TEM \n",
      "                15557                 11832                  1645 \n",
      "            CD4.TEMRA              CD4.Treg             CD8.Naive \n",
      "                 2942                  1805                  8629 \n",
      "              CD8.TCM               CD8.TEM          CD8.TEM.MPEC \n",
      "                 1361                  2771                   142 \n",
      "        CD8.TEM.NF4A2        CD8.TEMRA.CMC1      CD8.TEMRA.FCGR3A \n",
      "                 4046                  3051                   814 \n",
      "  CD8.TEMRA.FCGR3Alow                  HSPC                  MAIT \n",
      "                 5255                   175                   926 \n",
      "NK.Adaptive.CCL4.CCL3     NK.Adaptive.SPON2  NK.Adaptive.SPON2neg \n",
      "                 1546                  5444                  1630 \n",
      "        NK.CD56bright             NK.Mature        NK.Prolifering \n",
      "                 1549                  3988                   362 \n",
      "                 cDC1                  cDC2                 cMono \n",
      "                    3                  1302                 12650 \n",
      " cMono.CXCL8hi.CCL3hi cMono.CXCL8hi.CCL3low           cMono.ITGAX \n",
      "                 2433                  3588                   214 \n",
      "                  dnT                   gdT              gdT.MPEC \n",
      "                 1075                  1720                   145 \n",
      "               ncMono                   pDC \n",
      "                 4539                   645 \n"
     ]
    }
   ],
   "source": [
    "%%R\n",
    "print(table(peppa@meta.data$celltype_consensus.l3))"
   ]
  },
  {
   "cell_type": "code",
   "execution_count": 10,
   "id": "ddb9ed54",
   "metadata": {},
   "outputs": [
    {
     "name": "stdout",
     "output_type": "stream",
     "text": [
      "                            nCount_RNA nFeature_RNA sample_ID nCount_HTO\n",
      "AAACCTGTCGCATGGC-1-HIVHBV_C   2508.859         1259  HIVHBV_C        260\n",
      "AAACGGGAGATATACG-1-HIVHBV_C   2921.987         2053  HIVHBV_C        733\n",
      "AAACGGGAGTTACCCA-1-HIVHBV_C   2819.482         2175  HIVHBV_C        570\n",
      "AAACGGGCATCGGTTA-1-HIVHBV_C   2773.429         1649  HIVHBV_C       1193\n",
      "AAAGATGTCTCGCTTG-1-HIVHBV_C   2699.850         1657  HIVHBV_C       3162\n",
      "AAAGCAAAGCGTTCCG-1-HIVHBV_C   2513.127         1455  HIVHBV_C        744\n",
      "                            nFeature_HTO Hashtag.1 Hashtag.2 Classification\n",
      "AAACCTGTCGCATGGC-1-HIVHBV_C            2        55       205      Hashtag.2\n",
      "AAACGGGAGATATACG-1-HIVHBV_C            2       221       512      Hashtag.2\n",
      "AAACGGGAGTTACCCA-1-HIVHBV_C            2       115       455      Hashtag.2\n",
      "AAACGGGCATCGGTTA-1-HIVHBV_C            2       347       846      Hashtag.2\n",
      "AAAGATGTCTCGCTTG-1-HIVHBV_C            2      3104        58      Hashtag.1\n",
      "AAAGCAAAGCGTTCCG-1-HIVHBV_C            2       681        63      Hashtag.1\n",
      "                            solo_doublet_prob solo_singlet_prob\n",
      "AAACCTGTCGCATGGC-1-HIVHBV_C       -1.91114569         1.6272790\n",
      "AAACGGGAGATATACG-1-HIVHBV_C        1.84972215        -1.8760741\n",
      "AAACGGGAGTTACCCA-1-HIVHBV_C       -0.03713989        -0.2392182\n",
      "AAACGGGCATCGGTTA-1-HIVHBV_C        0.22186363        -0.4569482\n",
      "AAAGATGTCTCGCTTG-1-HIVHBV_C       -0.86036587         1.0001011\n",
      "AAAGCAAAGCGTTCCG-1-HIVHBV_C       -2.35498238         2.5699072\n",
      "                            solo_classification       scanpy_index percent.mt\n",
      "AAACCTGTCGCATGGC-1-HIVHBV_C             singlet HIVHBV_C_Hashtag.2   6.185057\n",
      "AAACGGGAGATATACG-1-HIVHBV_C             doublet HIVHBV_C_Hashtag.2   2.140673\n",
      "AAACGGGAGTTACCCA-1-HIVHBV_C             doublet HIVHBV_C_Hashtag.2   3.934052\n",
      "AAACGGGCATCGGTTA-1-HIVHBV_C             doublet HIVHBV_C_Hashtag.2   5.675760\n",
      "AAAGATGTCTCGCTTG-1-HIVHBV_C             singlet HIVHBV_C_Hashtag.1   3.722504\n",
      "AAAGCAAAGCGTTCCG-1-HIVHBV_C             singlet HIVHBV_C_Hashtag.1   3.830195\n",
      "                            percent.ribo percent.Ig library_name disease_group\n",
      "AAACCTGTCGCATGGC-1-HIVHBV_C     10.29193 0.00000000    control_1     CTRL-Prep\n",
      "AAACGGGAGATATACG-1-HIVHBV_C     18.98063 0.02038736    control_1     CTRL-Prep\n",
      "AAACGGGAGTTACCCA-1-HIVHBV_C     26.57525 0.00000000    control_1     CTRL-Prep\n",
      "AAACGGGCATCGGTTA-1-HIVHBV_C     12.95077 0.00000000    control_1     CTRL-Prep\n",
      "AAAGATGTCTCGCTTG-1-HIVHBV_C     19.57135 0.02820079   patient_10    HBV_HIV-Rx\n",
      "AAAGCAAAGCGTTCCG-1-HIVHBV_C     23.52378 0.00000000   patient_10    HBV_HIV-Rx\n",
      "                             study_ID Age celltype_consensus\n",
      "AAACCTGTCGCATGGC-1-HIVHBV_C     J2067  46                 NK\n",
      "AAACGGGAGATATACG-1-HIVHBV_C     J2067  46                 NK\n",
      "AAACGGGAGTTACCCA-1-HIVHBV_C     J2067  46                 NK\n",
      "AAACGGGCATCGGTTA-1-HIVHBV_C     J2067  46                 NK\n",
      "AAAGATGTCTCGCTTG-1-HIVHBV_C RFH-HB004  44                 NK\n",
      "AAAGCAAAGCGTTCCG-1-HIVHBV_C RFH-HB004  44                 NK\n",
      "                            celltype_consensus.l1 celltype_consensus.l2\n",
      "AAACCTGTCGCATGGC-1-HIVHBV_C                    NK NK.Adaptive.CCL4.CCL3\n",
      "AAACGGGAGATATACG-1-HIVHBV_C                    NK           NK.Adaptive\n",
      "AAACGGGAGTTACCCA-1-HIVHBV_C                    NK NK.Adaptive.CCL4.CCL3\n",
      "AAACGGGCATCGGTTA-1-HIVHBV_C                    NK           NK.Adaptive\n",
      "AAAGATGTCTCGCTTG-1-HIVHBV_C                    NK           NK.Adaptive\n",
      "AAAGCAAAGCGTTCCG-1-HIVHBV_C                    NK           NK.Adaptive\n",
      "                            celltype_consensus.l3                    barcodes\n",
      "AAACCTGTCGCATGGC-1-HIVHBV_C NK.Adaptive.CCL4.CCL3 AAACCTGTCGCATGGC-1-HIVHBV_C\n",
      "AAACGGGAGATATACG-1-HIVHBV_C     NK.Adaptive.SPON2 AAACGGGAGATATACG-1-HIVHBV_C\n",
      "AAACGGGAGTTACCCA-1-HIVHBV_C NK.Adaptive.CCL4.CCL3 AAACGGGAGTTACCCA-1-HIVHBV_C\n",
      "AAACGGGCATCGGTTA-1-HIVHBV_C     NK.Adaptive.SPON2 AAACGGGCATCGGTTA-1-HIVHBV_C\n",
      "AAAGATGTCTCGCTTG-1-HIVHBV_C     NK.Adaptive.SPON2 AAAGATGTCTCGCTTG-1-HIVHBV_C\n",
      "AAAGCAAAGCGTTCCG-1-HIVHBV_C     NK.Adaptive.SPON2 AAAGCAAAGCGTTCCG-1-HIVHBV_C\n",
      "                               title\n",
      "AAACCTGTCGCATGGC-1-HIVHBV_C HIVHBV_C\n",
      "AAACGGGAGATATACG-1-HIVHBV_C HIVHBV_C\n",
      "AAACGGGAGTTACCCA-1-HIVHBV_C HIVHBV_C\n",
      "AAACGGGCATCGGTTA-1-HIVHBV_C HIVHBV_C\n",
      "AAAGATGTCTCGCTTG-1-HIVHBV_C HIVHBV_C\n",
      "AAAGCAAAGCGTTCCG-1-HIVHBV_C HIVHBV_C\n"
     ]
    }
   ],
   "source": [
    "%%R\n",
    "\n",
    "head(peppa@meta.data)\n",
    "\n",
    "peppa_meta <- peppa@meta.data %>%\n",
    "select(nCount_RNA, nFeature_RNA, sample_ID, nCount_HTO, \n",
    "       nFeature_HTO, Hashtag.1, Hashtag.2, Classification,\n",
    "       solo_doublet_prob, solo_singlet_prob, solo_classification, \n",
    "       scanpy_index, \n",
    "       percent.mt, \n",
    "       percent.ribo, percent.Ig, \n",
    "      sample_id, disease_group, \n",
    "       study_ID, Age,\n",
    "       celltype_consensus,\n",
    "       celltype_consensus.l1,\n",
    "       celltype_consensus.l2,\n",
    "       celltype_consensus.l3,\n",
    "       barcodes, \n",
    "       scanpy_index\n",
    "      ) %>%\n",
    "dplyr::rename(library_name = sample_id) %>%\n",
    "mutate(title = gsub(\"_Hashtag.*\",\"\",scanpy_index)) %>%\n",
    "mutate(celltype_consensus.l2 = gsub(\"Prolifering\", \"Proliferating\", celltype_consensus.l2)) %>%\n",
    "mutate(celltype_consensus.l3 = gsub(\"Prolifering\", \"Proliferating\", celltype_consensus.l3))\n",
    "\n",
    "\n",
    "\n",
    "head(peppa_meta)\n",
    "\n"
   ]
  },
  {
   "cell_type": "code",
   "execution_count": 11,
   "id": "0df3cc91",
   "metadata": {},
   "outputs": [
    {
     "name": "stdout",
     "output_type": "stream",
     "text": [
      "\n",
      "                 ASDC          B.CSW.Memory            B.DN.ITGAX \n",
      "                   35                  1714                   544 \n",
      "              B.Naive        B.Naive.Mitohi     B.Naive.TCLA1_low \n",
      "                 4470                   159                  2294 \n",
      "        B.Plasmablast         B.UNSW.Memory            CD4.Mitohi \n",
      "                  239                  3539                  1534 \n",
      "            CD4.Naive               CD4.TCM               CD4.TEM \n",
      "                15557                 11832                  1645 \n",
      "            CD4.TEMRA              CD4.Treg             CD8.Naive \n",
      "                 2942                  1805                  8629 \n",
      "              CD8.TCM               CD8.TEM          CD8.TEM.MPEC \n",
      "                 1361                  2771                   142 \n",
      "        CD8.TEM.NF4A2        CD8.TEMRA.CMC1      CD8.TEMRA.FCGR3A \n",
      "                 4046                  3051                   814 \n",
      "  CD8.TEMRA.FCGR3Alow                  HSPC                  MAIT \n",
      "                 5255                   175                   926 \n",
      "NK.Adaptive.CCL4.CCL3     NK.Adaptive.SPON2  NK.Adaptive.SPON2neg \n",
      "                 1546                  5444                  1630 \n",
      "        NK.CD56bright             NK.Mature      NK.Proliferating \n",
      "                 1549                  3988                   362 \n",
      "                 cDC1                  cDC2                 cMono \n",
      "                    3                  1302                 12650 \n",
      " cMono.CXCL8hi.CCL3hi cMono.CXCL8hi.CCL3low           cMono.ITGAX \n",
      "                 2433                  3588                   214 \n",
      "                  dnT                   gdT              gdT.MPEC \n",
      "                 1075                  1720                   145 \n",
      "               ncMono                   pDC \n",
      "                 4539                   645 \n"
     ]
    }
   ],
   "source": [
    "%%R\n",
    "print(table(peppa_meta$celltype_consensus.l3))"
   ]
  },
  {
   "cell_type": "code",
   "execution_count": 12,
   "id": "98e1b615",
   "metadata": {},
   "outputs": [
    {
     "name": "stdout",
     "output_type": "stream",
     "text": [
      "                                library_name        title Age Classification\n",
      "AAACCTGTCGCATGGC-1-HIVHBV_C        control_1     HIVHBV_C  46      Hashtag.2\n",
      "AAAGATGTCTCGCTTG-1-HIVHBV_C       patient_10     HIVHBV_C  44      Hashtag.1\n",
      "AAACCTGAGACTGTAA-1-HH_Tre_4        patient_4     HH_Tre_4  46      Hashtag.1\n",
      "AAACCTGAGGGAGTAA-1-HH_Tre_4        patient_5     HH_Tre_4  57      Hashtag.2\n",
      "AAACCTGCAATGAATG-1-HBV_Tre_1       patient_1    HBV_Tre_1  56      Hashtag.2\n",
      "AAACCTGCACAAGACG-1-HIVHBV_Tre_5    patient_6 HIVHBV_Tre_5  32      Hashtag.2\n",
      "AAACCTGAGAAACCGC-1-HBV_Tre_3       patient_3    HBV_Tre_3  55      Hashtag.2\n",
      "AAACCTGAGTGGGATC-1-HBV_X2          patient_7       HBV_X2  37      Hashtag.2\n",
      "AAACCTGGTCATCGGC-1-HBV_C           control_1        HBV_C  46      Hashtag.2\n",
      "AAAGTAGGTGTAAGTA-1-HBV_C          patient_11        HBV_C  44      Hashtag.1\n",
      "AAACCTGCACTTCGAA-1-HIVHBV_X2       patient_8    HIVHBV_X2  69      Hashtag.1\n",
      "AAAGCAAAGATAGTCA-1-HIVHBV_X2       patient_9    HIVHBV_X2  42      Hashtag.2\n",
      "AAACGGGTCGAATCCA-1-HBV_Tre_2       patient_2    HBV_Tre_2  35      Hashtag.2\n",
      "AAACCTGAGACTACAA-1-Healthy         control_1   Healthy_NA  46             NA\n",
      "                                    organism                             tissue\n",
      "AAACCTGTCGCATGGC-1-HIVHBV_C     Homo Sapiens Peripheral blood mononuclear cells\n",
      "AAAGATGTCTCGCTTG-1-HIVHBV_C     Homo Sapiens Peripheral blood mononuclear cells\n",
      "AAACCTGAGACTGTAA-1-HH_Tre_4     Homo Sapiens Peripheral blood mononuclear cells\n",
      "AAACCTGAGGGAGTAA-1-HH_Tre_4     Homo Sapiens Peripheral blood mononuclear cells\n",
      "AAACCTGCAATGAATG-1-HBV_Tre_1    Homo Sapiens Peripheral blood mononuclear cells\n",
      "AAACCTGCACAAGACG-1-HIVHBV_Tre_5 Homo Sapiens Peripheral blood mononuclear cells\n",
      "AAACCTGAGAAACCGC-1-HBV_Tre_3    Homo Sapiens Peripheral blood mononuclear cells\n",
      "AAACCTGAGTGGGATC-1-HBV_X2       Homo Sapiens Peripheral blood mononuclear cells\n",
      "AAACCTGGTCATCGGC-1-HBV_C        Homo Sapiens Peripheral blood mononuclear cells\n",
      "AAAGTAGGTGTAAGTA-1-HBV_C        Homo Sapiens Peripheral blood mononuclear cells\n",
      "AAACCTGCACTTCGAA-1-HIVHBV_X2    Homo Sapiens Peripheral blood mononuclear cells\n",
      "AAAGCAAAGATAGTCA-1-HIVHBV_X2    Homo Sapiens Peripheral blood mononuclear cells\n",
      "AAACGGGTCGAATCCA-1-HBV_Tre_2    Homo Sapiens Peripheral blood mononuclear cells\n",
      "AAACCTGAGACTACAA-1-Healthy      Homo Sapiens Peripheral blood mononuclear cells\n",
      "                                 read_type  description processed_data_file\n",
      "AAACCTGTCGCATGGC-1-HIVHBV_C     paired-end 10x Genomics       control_1.csv\n",
      "AAAGATGTCTCGCTTG-1-HIVHBV_C     paired-end 10x Genomics      patient_10.csv\n",
      "AAACCTGAGACTGTAA-1-HH_Tre_4     paired-end 10x Genomics       patient_4.csv\n",
      "AAACCTGAGGGAGTAA-1-HH_Tre_4     paired-end 10x Genomics       patient_5.csv\n",
      "AAACCTGCAATGAATG-1-HBV_Tre_1    paired-end 10x Genomics       patient_1.csv\n",
      "AAACCTGCACAAGACG-1-HIVHBV_Tre_5 paired-end 10x Genomics       patient_6.csv\n",
      "AAACCTGAGAAACCGC-1-HBV_Tre_3    paired-end 10x Genomics       patient_3.csv\n",
      "AAACCTGAGTGGGATC-1-HBV_X2       paired-end 10x Genomics       patient_7.csv\n",
      "AAACCTGGTCATCGGC-1-HBV_C        paired-end 10x Genomics       control_1.csv\n",
      "AAAGTAGGTGTAAGTA-1-HBV_C        paired-end 10x Genomics      patient_11.csv\n",
      "AAACCTGCACTTCGAA-1-HIVHBV_X2    paired-end 10x Genomics       patient_8.csv\n",
      "AAAGCAAAGATAGTCA-1-HIVHBV_X2    paired-end 10x Genomics       patient_9.csv\n",
      "AAACGGGTCGAATCCA-1-HBV_Tre_2    paired-end 10x Genomics       patient_2.csv\n",
      "AAACCTGAGACTACAA-1-Healthy      paired-end 10x Genomics       control_1.csv\n"
     ]
    }
   ],
   "source": [
    "%%R\n",
    "print(peppa_meta %>% select(library_name, title, Age, Classification) %>%\n",
    "      mutate(organism = \"Homo Sapiens\", \n",
    "            tissue = \"Peripheral blood mononuclear cells\", \n",
    "            read_type = \"paired-end\",\n",
    "            description = \"10x Genomics\",\n",
    "            processed_data_file.1 = paste0(library_name, \".csv\")\n",
    "            )%>% \n",
    "      unique())"
   ]
  },
  {
   "cell_type": "markdown",
   "id": "d4b4a73b",
   "metadata": {},
   "source": [
    "## Segment matrices"
   ]
  },
  {
   "cell_type": "code",
   "execution_count": 13,
   "id": "7ad314f3",
   "metadata": {},
   "outputs": [],
   "source": [
    "%%R\n",
    "library(DropletUtils)\n"
   ]
  },
  {
   "cell_type": "code",
   "execution_count": 14,
   "id": "346445d5",
   "metadata": {},
   "outputs": [
    {
     "name": "stdout",
     "output_type": "stream",
     "text": [
      " [1] \"control_1\"  \"patient_10\" \"patient_4\"  \"patient_5\"  \"patient_1\" \n",
      " [6] \"patient_6\"  \"patient_3\"  \"patient_7\"  \"patient_11\" \"patient_8\" \n",
      "[11] \"patient_9\"  \"patient_2\" \n"
     ]
    }
   ],
   "source": [
    "%%R\n",
    "\n",
    "peppa_list <- SplitObject(peppa, split.by = \"sample_id\")\n",
    "\n",
    "print(names(peppa_list))\n"
   ]
  },
  {
   "cell_type": "code",
   "execution_count": 15,
   "id": "833a701b",
   "metadata": {},
   "outputs": [
    {
     "name": "stdout",
     "output_type": "stream",
     "text": [
      "[[1]]\n",
      "[1] 0\n",
      "\n",
      "[[2]]\n",
      "[1] 0\n",
      "\n",
      "[[3]]\n",
      "[1] 0\n",
      "\n",
      "[[4]]\n",
      "[1] 0\n",
      "\n",
      "[[5]]\n",
      "[1] 0\n",
      "\n",
      "[[6]]\n",
      "[1] 0\n",
      "\n",
      "[[7]]\n",
      "[1] 0\n",
      "\n",
      "[[8]]\n",
      "[1] 0\n",
      "\n",
      "[[9]]\n",
      "[1] 0\n",
      "\n",
      "[[10]]\n",
      "[1] 0\n",
      "\n",
      "[[11]]\n",
      "[1] 0\n",
      "\n",
      "[[12]]\n",
      "[1] 0\n",
      "\n"
     ]
    }
   ],
   "source": [
    "%%R\n",
    "\n",
    "lapply(names(peppa_list), function(x){\n",
    "    system(paste0(\"mkdir /well/immune-rep/users/vbw431/Projects/Peppa/GEO/\", x))\n",
    "})"
   ]
  },
  {
   "cell_type": "code",
   "execution_count": 17,
   "id": "3fb2db5b",
   "metadata": {},
   "outputs": [
    {
     "name": "stdout",
     "output_type": "stream",
     "text": [
      "[[1]]\n",
      "[1] TRUE\n",
      "\n",
      "[[2]]\n",
      "[1] TRUE\n",
      "\n",
      "[[3]]\n",
      "[1] TRUE\n",
      "\n",
      "[[4]]\n",
      "[1] TRUE\n",
      "\n",
      "[[5]]\n",
      "[1] TRUE\n",
      "\n",
      "[[6]]\n",
      "[1] TRUE\n",
      "\n",
      "[[7]]\n",
      "[1] TRUE\n",
      "\n",
      "[[8]]\n",
      "[1] TRUE\n",
      "\n",
      "[[9]]\n",
      "[1] TRUE\n",
      "\n",
      "[[10]]\n",
      "[1] TRUE\n",
      "\n",
      "[[11]]\n",
      "[1] TRUE\n",
      "\n",
      "[[12]]\n",
      "[1] TRUE\n",
      "\n"
     ]
    }
   ],
   "source": [
    "%%R\n",
    "\n",
    "lapply(names(peppa_list), function(x){\n",
    "    write10xCounts(peppa_list[[x]]@assays$RNA@counts, path = paste0(\"/well/immune-rep/users/vbw431/Projects/Peppa/GEO/\", x, \"/\"))\n",
    "})"
   ]
  },
  {
   "cell_type": "code",
   "execution_count": 20,
   "id": "98c235e0",
   "metadata": {},
   "outputs": [],
   "source": [
    "%%R\n",
    "\n",
    "updatemeta <- peppa_meta %>% select(library_name, title, Age, Classification) %>%\n",
    "      mutate(organism = \"Homo Sapiens\", \n",
    "            tissue = \"Peripheral blood mononuclear cells\", \n",
    "            read_type = \"paired-end\",\n",
    "            description = \"10x Genomics\",\n",
    "            processed_data_file.1 = paste0(library_name, \"_barcodes.tsv\"),\n",
    "            processed_data_file.2 = paste0(library_name, \"_genes.tsv\"),\n",
    "            processed_data_file.3 = paste0(library_name, \"_matrix.mtx\")\n",
    "\n",
    "            )%>% \n",
    "      unique()\n",
    "\n"
   ]
  },
  {
   "cell_type": "code",
   "execution_count": 22,
   "id": "1ca321e2",
   "metadata": {},
   "outputs": [],
   "source": [
    "%%R\n",
    "updatemeta\n",
    "write.csv(updatemeta, \"/well/immune-rep/users/vbw431/Projects/Peppa/GEO/metadata.csv\")"
   ]
  },
  {
   "cell_type": "code",
   "execution_count": 25,
   "id": "991cffbd",
   "metadata": {},
   "outputs": [],
   "source": [
    "%%R \n",
    "file_list <- list.files(\"/well/immune-rep/users/vbw431/Projects/Peppa/GEO/\", recursive = T, full.names=T)\n",
    "\n"
   ]
  },
  {
   "cell_type": "code",
   "execution_count": 40,
   "id": "03c998c9",
   "metadata": {},
   "outputs": [],
   "source": [
    "%%R\n",
    "\n",
    "var1 <- file_list[!grepl(\"metadata\", file_list)]\n"
   ]
  },
  {
   "cell_type": "code",
   "execution_count": 42,
   "id": "1ff387f6",
   "metadata": {},
   "outputs": [],
   "source": [
    "%%R\n",
    "\n",
    "# Split the vector using forward slash as the delimiter\n",
    "split_vector <- str_split(var1, \"/\")\n",
    "\n",
    "# Create a dataframe from the split_vector\n",
    "df <- data.frame(do.call(rbind, split_vector))\n",
    "var2 <- paste0(gsub(\"/[^/]*$\", \"/\", var1),df$X10, \"_\", df$X11)\n",
    "\n",
    "rename_df <- data.frame(var1, var2)\n"
   ]
  },
  {
   "cell_type": "code",
   "execution_count": 45,
   "id": "d1c01972",
   "metadata": {},
   "outputs": [],
   "source": [
    "%%R\n",
    "\n",
    "\n",
    "for (i in 1:nrow(rename_df)){\n",
    "    system(paste0(\"mv \", rename_df$var1[i], \" \", rename_df$var2[i]))\n",
    "}\n"
   ]
  },
  {
   "cell_type": "code",
   "execution_count": 46,
   "id": "dc6a5f97",
   "metadata": {},
   "outputs": [],
   "source": [
    "%%R\n",
    "\n",
    "head(peppa_meta)\n",
    "write.csv(peppa_meta, \"/well/immune-rep/users/vbw431/Projects/Peppa/GEO/dataset_metadata.csv\")"
   ]
  },
  {
   "cell_type": "code",
   "execution_count": 47,
   "id": "44ca5d67",
   "metadata": {},
   "outputs": [
    {
     "name": "stdout",
     "output_type": "stream",
     "text": [
      "                            nCount_RNA nFeature_RNA sample_ID nCount_HTO\n",
      "AAACCTGTCGCATGGC-1-HIVHBV_C   2508.859         1259  HIVHBV_C        260\n",
      "AAACGGGAGATATACG-1-HIVHBV_C   2921.987         2053  HIVHBV_C        733\n",
      "AAACGGGAGTTACCCA-1-HIVHBV_C   2819.482         2175  HIVHBV_C        570\n",
      "AAACGGGCATCGGTTA-1-HIVHBV_C   2773.429         1649  HIVHBV_C       1193\n",
      "AAAGATGTCTCGCTTG-1-HIVHBV_C   2699.850         1657  HIVHBV_C       3162\n",
      "AAAGCAAAGCGTTCCG-1-HIVHBV_C   2513.127         1455  HIVHBV_C        744\n",
      "                            nFeature_HTO Hashtag.1 Hashtag.2 Classification\n",
      "AAACCTGTCGCATGGC-1-HIVHBV_C            2        55       205      Hashtag.2\n",
      "AAACGGGAGATATACG-1-HIVHBV_C            2       221       512      Hashtag.2\n",
      "AAACGGGAGTTACCCA-1-HIVHBV_C            2       115       455      Hashtag.2\n",
      "AAACGGGCATCGGTTA-1-HIVHBV_C            2       347       846      Hashtag.2\n",
      "AAAGATGTCTCGCTTG-1-HIVHBV_C            2      3104        58      Hashtag.1\n",
      "AAAGCAAAGCGTTCCG-1-HIVHBV_C            2       681        63      Hashtag.1\n",
      "                            solo_doublet_prob solo_singlet_prob\n",
      "AAACCTGTCGCATGGC-1-HIVHBV_C       -1.91114569         1.6272790\n",
      "AAACGGGAGATATACG-1-HIVHBV_C        1.84972215        -1.8760741\n",
      "AAACGGGAGTTACCCA-1-HIVHBV_C       -0.03713989        -0.2392182\n",
      "AAACGGGCATCGGTTA-1-HIVHBV_C        0.22186363        -0.4569482\n",
      "AAAGATGTCTCGCTTG-1-HIVHBV_C       -0.86036587         1.0001011\n",
      "AAAGCAAAGCGTTCCG-1-HIVHBV_C       -2.35498238         2.5699072\n",
      "                            solo_classification       scanpy_index percent.mt\n",
      "AAACCTGTCGCATGGC-1-HIVHBV_C             singlet HIVHBV_C_Hashtag.2   6.185057\n",
      "AAACGGGAGATATACG-1-HIVHBV_C             doublet HIVHBV_C_Hashtag.2   2.140673\n",
      "AAACGGGAGTTACCCA-1-HIVHBV_C             doublet HIVHBV_C_Hashtag.2   3.934052\n",
      "AAACGGGCATCGGTTA-1-HIVHBV_C             doublet HIVHBV_C_Hashtag.2   5.675760\n",
      "AAAGATGTCTCGCTTG-1-HIVHBV_C             singlet HIVHBV_C_Hashtag.1   3.722504\n",
      "AAAGCAAAGCGTTCCG-1-HIVHBV_C             singlet HIVHBV_C_Hashtag.1   3.830195\n",
      "                            percent.ribo percent.Ig library_name disease_group\n",
      "AAACCTGTCGCATGGC-1-HIVHBV_C     10.29193 0.00000000    control_1     CTRL-Prep\n",
      "AAACGGGAGATATACG-1-HIVHBV_C     18.98063 0.02038736    control_1     CTRL-Prep\n",
      "AAACGGGAGTTACCCA-1-HIVHBV_C     26.57525 0.00000000    control_1     CTRL-Prep\n",
      "AAACGGGCATCGGTTA-1-HIVHBV_C     12.95077 0.00000000    control_1     CTRL-Prep\n",
      "AAAGATGTCTCGCTTG-1-HIVHBV_C     19.57135 0.02820079   patient_10    HBV_HIV-Rx\n",
      "AAAGCAAAGCGTTCCG-1-HIVHBV_C     23.52378 0.00000000   patient_10    HBV_HIV-Rx\n",
      "                             study_ID Age celltype_consensus\n",
      "AAACCTGTCGCATGGC-1-HIVHBV_C     J2067  46                 NK\n",
      "AAACGGGAGATATACG-1-HIVHBV_C     J2067  46                 NK\n",
      "AAACGGGAGTTACCCA-1-HIVHBV_C     J2067  46                 NK\n",
      "AAACGGGCATCGGTTA-1-HIVHBV_C     J2067  46                 NK\n",
      "AAAGATGTCTCGCTTG-1-HIVHBV_C RFH-HB004  44                 NK\n",
      "AAAGCAAAGCGTTCCG-1-HIVHBV_C RFH-HB004  44                 NK\n",
      "                            celltype_consensus.l1 celltype_consensus.l2\n",
      "AAACCTGTCGCATGGC-1-HIVHBV_C                    NK NK.Adaptive.CCL4.CCL3\n",
      "AAACGGGAGATATACG-1-HIVHBV_C                    NK           NK.Adaptive\n",
      "AAACGGGAGTTACCCA-1-HIVHBV_C                    NK NK.Adaptive.CCL4.CCL3\n",
      "AAACGGGCATCGGTTA-1-HIVHBV_C                    NK           NK.Adaptive\n",
      "AAAGATGTCTCGCTTG-1-HIVHBV_C                    NK           NK.Adaptive\n",
      "AAAGCAAAGCGTTCCG-1-HIVHBV_C                    NK           NK.Adaptive\n",
      "                            celltype_consensus.l3                    barcodes\n",
      "AAACCTGTCGCATGGC-1-HIVHBV_C NK.Adaptive.CCL4.CCL3 AAACCTGTCGCATGGC-1-HIVHBV_C\n",
      "AAACGGGAGATATACG-1-HIVHBV_C     NK.Adaptive.SPON2 AAACGGGAGATATACG-1-HIVHBV_C\n",
      "AAACGGGAGTTACCCA-1-HIVHBV_C NK.Adaptive.CCL4.CCL3 AAACGGGAGTTACCCA-1-HIVHBV_C\n",
      "AAACGGGCATCGGTTA-1-HIVHBV_C     NK.Adaptive.SPON2 AAACGGGCATCGGTTA-1-HIVHBV_C\n",
      "AAAGATGTCTCGCTTG-1-HIVHBV_C     NK.Adaptive.SPON2 AAAGATGTCTCGCTTG-1-HIVHBV_C\n",
      "AAAGCAAAGCGTTCCG-1-HIVHBV_C     NK.Adaptive.SPON2 AAAGCAAAGCGTTCCG-1-HIVHBV_C\n",
      "                               title\n",
      "AAACCTGTCGCATGGC-1-HIVHBV_C HIVHBV_C\n",
      "AAACGGGAGATATACG-1-HIVHBV_C HIVHBV_C\n",
      "AAACGGGAGTTACCCA-1-HIVHBV_C HIVHBV_C\n",
      "AAACGGGCATCGGTTA-1-HIVHBV_C HIVHBV_C\n",
      "AAAGATGTCTCGCTTG-1-HIVHBV_C HIVHBV_C\n",
      "AAAGCAAAGCGTTCCG-1-HIVHBV_C HIVHBV_C\n"
     ]
    }
   ],
   "source": [
    "%%R\n",
    "head(peppa_meta)\n"
   ]
  },
  {
   "cell_type": "code",
   "execution_count": null,
   "id": "cb959ca1",
   "metadata": {},
   "outputs": [],
   "source": []
  }
 ],
 "metadata": {
  "kernelspec": {
   "display_name": "Python 3 (ipykernel)",
   "language": "python",
   "name": "python3"
  },
  "language_info": {
   "codemirror_mode": {
    "name": "ipython",
    "version": 3
   },
   "file_extension": ".py",
   "mimetype": "text/x-python",
   "name": "python",
   "nbconvert_exporter": "python",
   "pygments_lexer": "ipython3",
   "version": "3.8.16"
  }
 },
 "nbformat": 4,
 "nbformat_minor": 5
}
