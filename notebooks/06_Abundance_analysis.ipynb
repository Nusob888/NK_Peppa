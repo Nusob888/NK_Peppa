{
 "cells": [
  {
   "cell_type": "code",
   "execution_count": 1,
   "id": "2d04dc66",
   "metadata": {},
   "outputs": [],
   "source": [
    "import os\n",
    "import sys\n",
    "import pandas as pd\n",
    "import numpy as np\n",
    "import matplotlib.pyplot as plt\n",
    "plt.rcParams['figure.figsize'] = (5,8)\n",
    "import matplotlib.font_manager\n",
    "import seaborn as sns\n",
    "import anndata\n",
    "import scanpy as sc\n",
    "import re\n",
    "import warnings\n",
    "\n",
    "warnings.filterwarnings(\"ignore\")\n",
    "warnings.simplefilter(\"ignore\")\n"
   ]
  },
  {
   "cell_type": "code",
   "execution_count": 3,
   "id": "790cf7a0",
   "metadata": {},
   "outputs": [],
   "source": [
    "data_dir = \"/well/immune-rep/users/vbw431/Projects/Peppa/data/\"\n",
    "newdata_dir = \"/well/immune-rep/users/vbw431/Projects/Peppa/new_analysis/data/\"\n",
    "plot_dir = \"/well/immune-rep/users/vbw431/Projects/Peppa/new_out/final_plots/\"\n"
   ]
  },
  {
   "cell_type": "code",
   "execution_count": 4,
   "id": "f59bd9ef",
   "metadata": {},
   "outputs": [
    {
     "name": "stdout",
     "output_type": "stream",
     "text": [
      "reading in NK\n",
      "reading in CD8\n",
      "reading in CD4\n",
      "reading in Bcells\n",
      "reading in Myeloid_Plt\n"
     ]
    }
   ],
   "source": [
    "adata = sc.read_h5ad(\"/well/immune-rep/users/vbw431/Projects/Peppa/out/peppa_azi_combat.h5ad\")\n",
    "##load data\n",
    "labels = [\"NK\", \"CD8\", \"CD4\", \"Bcells\", \"Myeloid_Plt\"]\n",
    "cluster_list = {}\n",
    "scvi_list = {}\n",
    "umap_list = {}\n",
    "for i in [0,1,2,3,4]:\n",
    "    print(\"reading in \" + labels[i])\n",
    "    cluster_list[labels[i]] = pd.read_csv(os.path.join(newdata_dir + labels[i] +\"_clustering_final/\", f\"Peppa_{labels[i]}_cluster_assignment.csv\"), index_col =0)\n",
    "    scvi_list[labels[i]] = pd.read_csv(os.path.join(newdata_dir + labels[i] +\"_embeddings/\", f\"Peppa_{labels[i]}_scvi.csv\"), index_col =0)\n",
    "    umap_list[labels[i]] = pd.read_csv(os.path.join(newdata_dir + labels[i] +\"_embeddings/\", f\"Peppa_{labels[i]}_umap.csv\"), index_col =0)\n",
    "\n",
    "adata_list = {}\n",
    "\n",
    "for i in [0,1,2,3, 4]:\n",
    "    adata_list[labels[i]] = adata[cluster_list[labels[i]].index].copy()\n",
    "    adata_list[labels[i]].obsm[\"X_scVI\"] = scvi_list[labels[i]].loc[adata_list[labels[i]].obs_names].values\n",
    "    adata_list[labels[i]].obsm[\"X_umap\"] = umap_list[labels[i]].loc[adata_list[labels[i]].obs_names].values\n",
    "    adata_list[labels[i]].obs = adata_list[labels[i]].obs.merge(cluster_list[labels[i]], left_index=True, right_index=True, how=\"inner\")\n",
    "    adata_list[labels[i]].layers['counts'] = adata_list[labels[i]].X.copy()\n",
    "    sc.pp.normalize_total(adata_list[labels[i]], target_sum=1e4)\n",
    "    sc.pp.log1p(adata_list[labels[i]])\n",
    "    adata_list[labels[i]].layers['normalized'] = adata_list[labels[i]].X.copy()\n",
    "    "
   ]
  },
  {
   "cell_type": "code",
   "execution_count": 5,
   "id": "13fbe098",
   "metadata": {},
   "outputs": [],
   "source": [
    "##update meta_data with new clinical\n",
    "clin_meta = pd.read_csv(newdata_dir + \"index_demo.csv\", index_col = 0)\n",
    "clin_meta = clin_meta[[\"disease_group\", \n",
    "                       \"bio_replicate\", \n",
    "                       \"study_disease\", \n",
    "                       \"scanpy_index\", \n",
    "                       \"study_ID\", \n",
    "                       \"Treatment_status\",\n",
    "                      \"Ethnicity\",\n",
    "                      \"Sex\",\n",
    "                      \"Age\",\n",
    "                      \"HBV_serostatus\",\n",
    "                      \"HBV_sAg_titre\",\n",
    "                      \"HBV_DNA_VL\"]]\n"
   ]
  },
  {
   "cell_type": "code",
   "execution_count": 6,
   "id": "eb7f4ac8",
   "metadata": {},
   "outputs": [],
   "source": [
    "new_obs = {}\n",
    "\n",
    "for name in labels:\n",
    "    del adata_list[name].obs[\"disease_group\"]\n",
    "    del adata_list[name].obs[\"study_disease\"]\n",
    "    new_df = pd.merge(adata_list[name].obs, clin_meta, how='left', left_on = ['bio_replicate','scanpy_index'], right_on = ['bio_replicate','scanpy_index'])\n",
    "    new_df.index = adata_list[name].obs.index\n",
    "    new_obs[name] = new_df.copy()\n",
    "    adata_list[name].obs = new_df.copy()\n",
    "\n",
    "       "
   ]
  },
  {
   "cell_type": "code",
   "execution_count": 7,
   "id": "36d46f06",
   "metadata": {},
   "outputs": [],
   "source": [
    "for name in labels:\n",
    "    adata_list[name].obs[\"celltype_consensus.l1\"] = str(name)\n",
    "    adata_list[name].obs[\"celltype_consensus.l2\"] = adata_list[name].obs[str(name+\".annotation.l1\")]"
   ]
  },
  {
   "cell_type": "code",
   "execution_count": 8,
   "id": "93a1e177",
   "metadata": {},
   "outputs": [],
   "source": [
    "## subset for only on-treatment patients as pre-treatment samples only available in some\n",
    "on_treatment = {}\n",
    "\n",
    "for name in labels:\n",
    "    on_treatment[name] = adata_list[name][adata_list[name].obs[\"Treatment_status\"] != \"Pre_treatment\"].copy()\n"
   ]
  },
  {
   "cell_type": "code",
   "execution_count": 9,
   "id": "70232185",
   "metadata": {},
   "outputs": [],
   "source": [
    "##concat\n",
    "adata_all = anndata.concat(on_treatment, join= \"outer\", index_unique=None)\n"
   ]
  },
  {
   "cell_type": "code",
   "execution_count": 10,
   "id": "f0545f39",
   "metadata": {},
   "outputs": [],
   "source": [
    "##Assign CMV status based on azimuth preprint (https://doi.org/10.1016/j.cell.2021.04.048)\n",
    "\n",
    "conditions = [\n",
    "  ([re.search(\"_0|SeuratProject\",a) is not None for a in adata_all.obs[\"orig.ident\"]]),\n",
    "  ([re.search(\"_0|SeuratProject\",a) is None for a in adata_all.obs[\"orig.ident\"]]),\n",
    " ]\n",
    "\n",
    "# create a list of the values we want to assign for each condition\n",
    "values = [\"Subset\", \"Remove\"]\n",
    "\n",
    "# create a new column and use np.select to assign values to it using our lists as arguments\n",
    "adata_all.obs[\"prevax\"] = np.select(conditions, values)\n"
   ]
  },
  {
   "cell_type": "code",
   "execution_count": 11,
   "id": "ca7ca245",
   "metadata": {},
   "outputs": [],
   "source": [
    "adata_all = adata_all[adata_all.obs[\"prevax\"] == \"Subset\"].copy()"
   ]
  },
  {
   "cell_type": "markdown",
   "id": "9cacd1a8",
   "metadata": {},
   "source": [
    "## Sccoda"
   ]
  },
  {
   "cell_type": "code",
   "execution_count": 13,
   "id": "d691e1f5",
   "metadata": {},
   "outputs": [
    {
     "ename": "ModuleNotFoundError",
     "evalue": "No module named 'sccoda'",
     "output_type": "error",
     "traceback": [
      "\u001b[0;31m---------------------------------------------------------------------------\u001b[0m",
      "\u001b[0;31mModuleNotFoundError\u001b[0m                       Traceback (most recent call last)",
      "Cell \u001b[0;32mIn[13], line 1\u001b[0m\n\u001b[0;32m----> 1\u001b[0m \u001b[38;5;28;01mimport\u001b[39;00m \u001b[38;5;21;01msccoda\u001b[39;00m\n",
      "\u001b[0;31mModuleNotFoundError\u001b[0m: No module named 'sccoda'"
     ]
    }
   ],
   "source": [
    "import sccoda\n",
    "from sccoda.util import cell_composition_data as dat\n",
    "from sccoda.util import data_visualization as viz"
   ]
  },
  {
   "cell_type": "code",
   "execution_count": null,
   "id": "7b92d212",
   "metadata": {},
   "outputs": [],
   "source": [
    "##Separate to on_treatment for first comparison\n",
    "on_treat = adata_all[adata_all.obs[\"Treatment_status\"] != \"Pre_treatment\"].copy()"
   ]
  },
  {
   "cell_type": "code",
   "execution_count": null,
   "id": "92a076bd",
   "metadata": {},
   "outputs": [],
   "source": [
    "cov_df = on_treat.obs[['study_disease', 'bio_replicate']].drop_duplicates(subset=['study_disease', 'bio_replicate'], keep='last')\n",
    "cov_df.index = cov_df[\"bio_replicate\"]\n",
    "cov_df\n",
    "del cov_df[\"bio_replicate\"]"
   ]
  },
  {
   "cell_type": "code",
   "execution_count": null,
   "id": "20aff670",
   "metadata": {},
   "outputs": [],
   "source": [
    "counts = pd.crosstab(on_treat.obs[\"bio_replicate\"], on_treat.obs[\"celltype_consensus.l2\"])\n",
    "counts.columns.name = None\n",
    "counts[\"bio_replicate\"] = counts.index"
   ]
  },
  {
   "cell_type": "code",
   "execution_count": null,
   "id": "5ad60e39",
   "metadata": {},
   "outputs": [],
   "source": [
    "data_counts = dat.from_pandas(counts, covariate_columns=[\"bio_replicate\"])\n",
    "# Extract condition from and add it as an extra column to the covariates\n",
    "data_counts.obs[\"study_disease\"] = cov_df"
   ]
  },
  {
   "cell_type": "code",
   "execution_count": null,
   "id": "3d0f4ecd",
   "metadata": {},
   "outputs": [],
   "source": [
    "# Stacked barplot for each sample\n",
    "viz.stacked_barplot(data_counts, feature_name=\"bio_replicate\")\n",
    "# Stacked barplot for the levels of \"Condition\"\n",
    "viz.stacked_barplot(data_counts, feature_name=\"study_disease\")\n"
   ]
  },
  {
   "cell_type": "code",
   "execution_count": null,
   "id": "659a2101",
   "metadata": {},
   "outputs": [],
   "source": [
    "prop_matrix = pd.DataFrame(data_counts.X, index = data_counts.obs_names, columns = data_counts.var_names)\n",
    "prop_matrix[\"bio_replicate\"] = prop_matrix.index\n",
    "prop_meta = data_counts.obs\n",
    "prop_matrix"
   ]
  },
  {
   "cell_type": "code",
   "execution_count": null,
   "id": "dbbcb4d6",
   "metadata": {},
   "outputs": [],
   "source": [
    "from pylab import *\n",
    "cmap = cm.get_cmap('tab20', 20) \n",
    "cmap\n",
    "\n",
    "tab20list = []\n",
    "for i in range(cmap.N):\n",
    "    rgba = cmap(i)\n",
    "    # rgb2hex accepts rgb or rgba\n",
    "    tab20list.append(matplotlib.colors.rgb2hex(rgba))\n",
    "    \n",
    "tab20list"
   ]
  },
  {
   "cell_type": "code",
   "execution_count": null,
   "id": "cffef20c",
   "metadata": {},
   "outputs": [],
   "source": [
    "import rpy2.rinterface_lib.callbacks\n",
    "import anndata2ri\n",
    "import logging\n",
    "import rpy2.robjects.lib.ggplot2 as gp\n",
    "from rpy2.robjects import pandas2ri\n",
    "from rpy2.robjects import r\n",
    "from rpy2.ipython.ggplot import image_png\n",
    "\n",
    "#sc.settings.verbosity = 0\n",
    "rpy2.rinterface_lib.callbacks.logger.setLevel(logging.ERROR)\n",
    "\n",
    "pandas2ri.activate()\n",
    "anndata2ri.activate()\n",
    "%load_ext rpy2.ipython"
   ]
  },
  {
   "cell_type": "code",
   "execution_count": null,
   "id": "c7053312",
   "metadata": {},
   "outputs": [],
   "source": [
    "%%R\n",
    "\n",
    ".libPaths(c(paste0(\"/well/immune-rep/users/vbw431/python/scvi_new_ivy/r_modules\"), .libPaths()))\n",
    "\n",
    "library(tidyverse)\n",
    "library(RColorBrewer)\n",
    "\n",
    "cur.dir = \"/well/immune-rep/users/vbw431/Projects/Peppa/data/DIMITRA_FASTQ/\"\n",
    "work.dir = \"/well/immune-rep/users/vbw431/Projects/Peppa/\"\n",
    "out.dir = \"/well/immune-rep/users/vbw431/Projects/Peppa/out/\"\n",
    "references = \"/well/immune-rep/users/vbw431/reference/reference/refdata-gex-GRCh38-2020-A/\"\n",
    "com.out = \"/well/immune-rep/users/vbw431/Projects/Peppa/reference_combat/\"\n",
    "\n",
    "##plotting\n",
    "library(ggplot2); theme_set(theme_bw(base_size = 18)+\n",
    "                              theme(strip.text = element_text(colour = 'black', face=\"bold\",size=12), \n",
    "                                    panel.grid.major = element_blank(), \n",
    "                                    panel.grid.minor = element_blank(),\n",
    "                                    panel.border = element_rect(size = 0.7),\n",
    "                                    axis.ticks.length=unit(.10, \"cm\"),\n",
    "                                    axis.ticks = element_line(size=0.7),\n",
    "                                    strip.background = element_blank()))\n",
    "\n"
   ]
  },
  {
   "cell_type": "code",
   "execution_count": null,
   "id": "d14501e6",
   "metadata": {},
   "outputs": [],
   "source": [
    "%%R -i prop_matrix -i prop_meta -h 500 -w 900 -i tab20list\n",
    "nb.cols <- 31\n",
    "mycolors <- colorRampPalette(tab20list)(nb.cols)\n",
    "\n",
    "\n",
    "prop_plot <- prop_matrix %>%\n",
    "reshape2::melt(id.vars = c(\"bio_replicate\")) %>%\n",
    "left_join(prop_meta, by=c(\"bio_replicate\")) %>%\n",
    "mutate(`Cell Type` = ifelse(grepl(\"Prolifering\", variable), \"NK.Proliferating\", as.character(variable))) %>%\n",
    "#mutate(`Cell Type` = variable) %>%\n",
    "ggplot(aes(bio_replicate, value, fill = `Cell Type`))+\n",
    "geom_col(position = \"fill\")+\n",
    "facet_wrap(~study_disease, nrow=1, scales = \"free_x\")+\n",
    "theme(axis.text.x = element_text(angle=45, hjust=1))+\n",
    "scale_fill_manual(values = mycolors)+\n",
    "ylab(\"Proportion\")+\n",
    "xlab(\"\")\n",
    "\n",
    "print(prop_plot)\n",
    "\n",
    "prop_matrix %>%\n",
    "reshape2::melt(id.vars = c(\"bio_replicate\")) %>%\n",
    "left_join(prop_meta, by=c(\"bio_replicate\")) %>%\n",
    "mutate(`Cell Type` = variable) %>%\n",
    "ggplot(aes(`Cell Type`, value, fill = study_disease))+\n",
    "geom_boxplot(outlier.alpha = 0)+\n",
    "#geom_point(aes(color=study_disease), position = position_jitterdodge(jitter.width=0.1))+\n",
    "theme(axis.text.x = element_text(angle=45, hjust=1))+\n",
    "scale_fill_manual(values = mycolors)+\n",
    "scale_color_manual(values = mycolors)+\n",
    "ylab(\"Proportion\")+\n",
    "xlab(\"\")\n",
    "\n"
   ]
  },
  {
   "cell_type": "code",
   "execution_count": null,
   "id": "6ffc27c9",
   "metadata": {},
   "outputs": [],
   "source": [
    "from sccoda.util import comp_ana as mod\n"
   ]
  },
  {
   "cell_type": "code",
   "execution_count": null,
   "id": "2bae3a51",
   "metadata": {},
   "outputs": [],
   "source": [
    "# model all three diseases at once\n",
    "model_all = mod.CompositionalAnalysis(data_counts, formula=\"study_disease\")\n",
    "all_results = model_all.sample_hmc()\n",
    "all_results.set_fdr(est_fdr=0.4)\n",
    "all_results.summary()"
   ]
  },
  {
   "cell_type": "code",
   "execution_count": null,
   "id": "284cbc2e",
   "metadata": {},
   "outputs": [],
   "source": [
    "all_results.credible_effects()\n"
   ]
  },
  {
   "cell_type": "code",
   "execution_count": null,
   "id": "14efa0d1",
   "metadata": {},
   "outputs": [],
   "source": [
    "credible_effects_HBV = all_results.credible_effects()[\"study_disease[T.HBV]\"]\n",
    "credible_effects_HBV_HIV = all_results.credible_effects()[\"study_disease[T.HBV_HIV]\"]\n"
   ]
  },
  {
   "cell_type": "code",
   "execution_count": null,
   "id": "15c4cf33",
   "metadata": {},
   "outputs": [],
   "source": [
    "HBV_effect = all_results.effect_df.loc[\"study_disease[T.HBV]\"]\n",
    "HBV_HIV_effect = all_results.effect_df.loc[\"study_disease[T.HBV_HIV]\"]\n",
    "\n",
    "HBV_effect = HBV_effect.loc[credible_effects_HBV].reset_index()\n",
    "HBV_HIV_effect = HBV_HIV_effect.loc[credible_effects_HBV_HIV].reset_index()"
   ]
  },
  {
   "cell_type": "code",
   "execution_count": null,
   "id": "a2dbe98d",
   "metadata": {},
   "outputs": [],
   "source": [
    "%%R -i HBV_effect -i HBV_HIV_effect -h 700 -w 1200\n",
    "library(tidytext)\n",
    "\n",
    "HBV_effect$contrast <- \"HBV vs. rest\"\n",
    "HBV_HIV_effect$contrast <- \"co-infection vs. rest\"\n",
    "\n",
    "combined <- rbind(HBV_effect, HBV_HIV_effect)\n",
    "\n",
    "#combined %>% \n",
    "#ggplot(aes(reorder_within(`Cell Type`, `log2-fold change`, contrast), `log2-fold change`, fill = `log2-fold change`))+\n",
    "#geom_col()+\n",
    "#facet_wrap(~contrast, scales=\"free\")+\n",
    "#scale_x_reordered()+\n",
    "#theme(axis.text.x = element_text(angle=45, hjust=1))+\n",
    "# scale_fill_gradientn(colors = colorRampPalette(c(\"#276DAA\", \"white\", \"#DD1C28\"))(100))+\n",
    "#xlab(\"\")\n",
    "\n",
    "sccoda_prop <- combined %>% \n",
    "mutate(Contrast = contrast) %>%\n",
    "mutate(`Parent Cell Type` = ifelse(grepl(\"^B.\", `Cell Type`), \"B cells\",\n",
    "                                  ifelse(grepl(\"^CD4.\", `Cell Type`), \"CD4\",\n",
    "                                        ifelse(grepl(\"^CD8.|MAIT|MPECs|gdT\", `Cell Type`), \"CD8\",\n",
    "                                              ifelse(grepl(\"^NK.\", `Cell Type`), \"NK\", \"Myeloid_Plt\"))))) %>%\n",
    "ggplot(aes(`Cell Type`, `log2-fold change`, color = Contrast))+\n",
    "geom_point(aes(size=`Inclusion probability`), position = position_dodge(width = .8))+\n",
    "geom_errorbar(aes(ymin=0, ymax = `log2-fold change`),\n",
    "                   width = 0,\n",
    "                   position = position_dodge(width = .8), size=0.5)+\n",
    "geom_hline(yintercept = 0, linetype=\"dashed\")+\n",
    "geom_vline(lty = 2, xintercept=seq(from = 0.5, to = length(unique(combined$`Cell Type`)), by = 1),color=\"gray\", size = 0.5)+\n",
    "\n",
    "#facet_wrap(~contrast, scales=\"free\")+\n",
    "scale_x_reordered()+\n",
    "theme(axis.text.x = element_text(angle=45, hjust=1))+\n",
    " #scale_fill_gradientn(colors = colorRampPalette(c(\"#276DAA\", \"white\", \"#DD1C28\"))(100))+\n",
    "ggsci::scale_color_d3()+\n",
    "xlab(\"\")+\n",
    "facet_grid(vars(`Parent Cell Type`), scales=\"free_y\")+\n",
    "coord_flip()\n",
    "print(sccoda_prop)\n",
    "\n",
    "ggsave(sccoda_prop, file=\"/well/immune-rep/users/vbw431/Projects/Peppa/new_out/final_plots/sccoda_prop.eps\", device=\"eps\",  width = 9, height = 11, units = \"in\")\n",
    "\n",
    "ggsave(prop_plot, file=\"/well/immune-rep/users/vbw431/Projects/Peppa/new_out/final_plots/prop_fill.eps\", device=\"eps\",  width = 14, height = 7, units = \"in\")\n",
    "\n",
    "\n",
    "\n"
   ]
  },
  {
   "cell_type": "code",
   "execution_count": null,
   "id": "63dc8506",
   "metadata": {},
   "outputs": [],
   "source": [
    "%%R  -h 500 -w 400\n",
    "\n",
    "##NK only\n",
    "\n",
    "NK <- combined %>% \n",
    "filter(grepl(\"NK\", `Cell Type`)) %>%\n",
    "mutate(`Cell Type` = ifelse(grepl(\"Prolifering\", `Cell Type`), \"NK.Proliferating\", `Cell Type`)) \n",
    "\n",
    "NK %>%\n",
    "ggplot(aes(reorder(`Cell Type`, `log2-fold change`), `log2-fold change`, fill = `log2-fold change`))+\n",
    "geom_col()+\n",
    "facet_grid(vars(contrast))+\n",
    "theme(axis.text.x = element_text(angle=45, hjust=1))+\n",
    " scale_fill_gradientn(colors = colorRampPalette(c(\"#276DAA\", \"white\", \"#DD1C28\"))(100))+\n",
    "xlab(\"\")\n",
    "\n"
   ]
  },
  {
   "cell_type": "code",
   "execution_count": null,
   "id": "41849eec",
   "metadata": {},
   "outputs": [],
   "source": [
    "HBV_HIV_effect"
   ]
  },
  {
   "cell_type": "code",
   "execution_count": null,
   "id": "4d0c369f",
   "metadata": {},
   "outputs": [],
   "source": [
    "HBV_effect"
   ]
  },
  {
   "cell_type": "code",
   "execution_count": null,
   "id": "e1332029",
   "metadata": {},
   "outputs": [],
   "source": [
    "import altair as alt\n",
    "from altair_saver import save"
   ]
  },
  {
   "cell_type": "code",
   "execution_count": null,
   "id": "1fdc4adf",
   "metadata": {},
   "outputs": [],
   "source": [
    "charthbv = alt.Chart(\n",
    "        HBV_effect.loc[credible_effects_HBV].reset_index(),\n",
    "        title=\"HBV vs. Rest\",\n",
    "    ).mark_bar().encode(\n",
    "        x=alt.X(\"Cell Type\", sort=\"y\"),\n",
    "        y=\"log2-fold change\",\n",
    "        color=alt.Color(\"Cell Type\"),\n",
    "    )\n",
    "\n",
    "charthbv"
   ]
  },
  {
   "cell_type": "code",
   "execution_count": null,
   "id": "cfb11770",
   "metadata": {},
   "outputs": [],
   "source": [
    "charthbvhiv = (\n",
    "    alt.Chart(\n",
    "        HBV_HIV_effect.loc[credible_effects_HBV_HIV].reset_index(),\n",
    "        title=\"HBV_HIV vs. Rest\",\n",
    "    )\n",
    "    .mark_bar()\n",
    "    .encode(\n",
    "        x=alt.X(\"Cell Type\", sort=\"y\"),\n",
    "        y=\"log2-fold change\",\n",
    "        color=alt.Color(\"Cell Type\"),\n",
    "    )\n",
    ")\n",
    "charthbvhiv"
   ]
  },
  {
   "cell_type": "code",
   "execution_count": null,
   "id": "967ef450",
   "metadata": {},
   "outputs": [],
   "source": [
    "\n",
    "##plot on umap\n",
    "\n",
    "on_treat.obs[\"HBV_effect_sscoda\"] = [\n",
    "    all_results.effect_df.loc[(\"study_disease[T.HBV]\", c), \"log2-fold change\"]\n",
    "    for c in on_treat.obs[\"celltype_consensus.l2\"]\n",
    "]\n",
    "on_treat.obs[\"HBV_HIV_effect_sscoda\"] = [\n",
    "    all_results.effect_df.loc[(\"study_disease[T.HBV_HIV]\", c), \"log2-fold change\"]\n",
    "    for c in on_treat.obs[\"celltype_consensus.l2\"]\n",
    "]\n",
    "\n"
   ]
  },
  {
   "cell_type": "code",
   "execution_count": null,
   "id": "222c2f83",
   "metadata": {},
   "outputs": [],
   "source": [
    "for i in labels:\n",
    "    sc.pl.umap(\n",
    "        on_treat[on_treat.obs[\"celltype_consensus.l1\"] == str(i)],\n",
    "        color=[\n",
    "            \"celltype_consensus.l2\",\n",
    "            \"HBV_effect_sscoda\",\n",
    "            \"HBV_HIV_effect_sscoda\",\n",
    "        ],\n",
    "        ncols=3,\n",
    "        wspace=0.25,\n",
    "        vcenter=0,\n",
    "        vmax=1.5,\n",
    "        vmin=-1.5,\n",
    "        cmap = 'RdBu_r',\n",
    "        add_outline = True,\n",
    "        size=10\n",
    "    )\n",
    "    plt.show()"
   ]
  },
  {
   "cell_type": "markdown",
   "id": "061a35af",
   "metadata": {},
   "source": [
    "## Repeat sccoda to compare pre and post treatment HBV"
   ]
  },
  {
   "cell_type": "code",
   "execution_count": null,
   "id": "35233f60",
   "metadata": {},
   "outputs": [],
   "source": [
    "paired_tre = adata_all[adata_all.obs[\"Treatment_status\"].isin([\"Pre_treatment\", \"On_treatment\"])].copy()\n",
    "set(paired_tre.obs[\"bio_replicate\"])\n",
    "paired_tre = paired_tre[paired_tre.obs[\"bio_replicate\"].isin([\"patient_1\", \n",
    "                                                              \"patient_2\",\n",
    "                                                              \"patient_3\",\n",
    "                                                              \"patient_6\",\n",
    "                                                              \"patient_7\"])].copy()"
   ]
  },
  {
   "cell_type": "code",
   "execution_count": null,
   "id": "bacd7584",
   "metadata": {},
   "outputs": [],
   "source": [
    "paired_tre.obs[\"treat_rep\"] = paired_tre.obs['Treatment_status'].astype(str) +paired_tre.obs['bio_replicate'].astype(str)\n",
    "\n"
   ]
  },
  {
   "cell_type": "code",
   "execution_count": null,
   "id": "8fd98d25",
   "metadata": {},
   "outputs": [],
   "source": [
    "set(paired_tre.obs[\"treat_rep\"])"
   ]
  },
  {
   "cell_type": "code",
   "execution_count": null,
   "id": "925878c7",
   "metadata": {},
   "outputs": [],
   "source": [
    "cov_tr = paired_tre.obs[['Treatment_status', 'treat_rep']].drop_duplicates(subset=['Treatment_status', 'treat_rep'], keep='last')\n",
    "\n",
    "cov_tr.index = cov_tr[\"treat_rep\"]\n",
    "cov_tr\n",
    "del cov_tr[\"treat_rep\"]\n"
   ]
  },
  {
   "cell_type": "code",
   "execution_count": null,
   "id": "84f8f74a",
   "metadata": {},
   "outputs": [],
   "source": [
    "paired_tre.obs[\"treat_rep\"]"
   ]
  },
  {
   "cell_type": "code",
   "execution_count": null,
   "id": "3c4be0d7",
   "metadata": {},
   "outputs": [],
   "source": [
    "counts_tr = pd.crosstab(paired_tre.obs[\"treat_rep\"], paired_tre.obs[\"celltype_consensus.l2\"])\n",
    "counts_tr.columns.name = None\n",
    "counts_tr[\"treat_rep\"] = counts_tr.index"
   ]
  },
  {
   "cell_type": "code",
   "execution_count": null,
   "id": "44a181ec",
   "metadata": {},
   "outputs": [],
   "source": [
    "data_counts_tr = dat.from_pandas(counts_tr, covariate_columns=[\"treat_rep\"])\n"
   ]
  },
  {
   "cell_type": "code",
   "execution_count": null,
   "id": "a952cbf9",
   "metadata": {},
   "outputs": [],
   "source": [
    "# Extract condition and add it as an extra column to the covariates\n",
    "data_counts_tr.obs[\"Treatment_status\"] = cov_tr\n",
    "print(data_counts_tr.X)\n",
    "print(data_counts_tr.obs)"
   ]
  },
  {
   "cell_type": "code",
   "execution_count": null,
   "id": "4441cb62",
   "metadata": {},
   "outputs": [],
   "source": [
    "# Grouped boxplots. No facets, relative abundance, no dots.\n",
    "viz.boxplots(\n",
    "    data_counts_tr,\n",
    "    feature_name=\"Treatment_status\",\n",
    "    plot_facets=False,\n",
    "    y_scale=\"relative\",\n",
    "    add_dots=False,\n",
    ")\n",
    "plt.savefig(plot_dir + \"sscoda_prop_boxplot_prevspost.svg\",)\n"
   ]
  },
  {
   "cell_type": "code",
   "execution_count": null,
   "id": "30ab3e3a",
   "metadata": {},
   "outputs": [],
   "source": [
    "# model all three diseases at once\n",
    "model_all_tr = mod.CompositionalAnalysis(data_counts_tr, formula=\"Treatment_status\")\n",
    "all_results_tr = model_all_tr.sample_hmc()\n",
    "all_results_tr.summary()"
   ]
  },
  {
   "cell_type": "code",
   "execution_count": null,
   "id": "800a8547",
   "metadata": {},
   "outputs": [],
   "source": [
    "all_results_tr.set_fdr(est_fdr=0.4)\n",
    "all_results_tr.credible_effects()\n"
   ]
  },
  {
   "cell_type": "code",
   "execution_count": null,
   "id": "31d3a742",
   "metadata": {},
   "outputs": [],
   "source": [
    "## No changes in composition pre and post treatment on sscoda"
   ]
  },
  {
   "cell_type": "code",
   "execution_count": null,
   "id": "f386e2c9",
   "metadata": {},
   "outputs": [],
   "source": []
  }
 ],
 "metadata": {
  "kernelspec": {
   "display_name": "Python 3 (ipykernel)",
   "language": "python",
   "name": "python3"
  },
  "language_info": {
   "codemirror_mode": {
    "name": "ipython",
    "version": 3
   },
   "file_extension": ".py",
   "mimetype": "text/x-python",
   "name": "python",
   "nbconvert_exporter": "python",
   "pygments_lexer": "ipython3",
   "version": "3.11.4"
  }
 },
 "nbformat": 4,
 "nbformat_minor": 5
}
